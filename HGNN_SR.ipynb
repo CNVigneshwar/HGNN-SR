{
  "metadata": {
    "kernelspec": {
      "language": "python",
      "display_name": "Python 3",
      "name": "python3"
    },
    "language_info": {
      "name": "python",
      "version": "3.7.12",
      "mimetype": "text/x-python",
      "codemirror_mode": {
        "name": "ipython",
        "version": 3
      },
      "pygments_lexer": "ipython3",
      "nbconvert_exporter": "python",
      "file_extension": ".py"
    },
    "kaggle": {
      "accelerator": "nvidiaTeslaT4",
      "dataSources": [
        {
          "sourceId": 3289759,
          "sourceType": "datasetVersion",
          "datasetId": 1991703
        }
      ],
      "dockerImageVersionId": 30302,
      "isInternetEnabled": true,
      "language": "python",
      "sourceType": "notebook",
      "isGpuEnabled": true
    },
    "colab": {
      "provenance": []
    }
  },
  "nbformat_minor": 0,
  "nbformat": 4,
  "cells": [
    {
      "cell_type": "markdown",
      "source": [
        "# Heterogeneous Global Graph Neural Networks for Personalized Session-based Recommendation\n",
        "\n"
      ],
      "metadata": {
        "id": "EqwqnQBpdbqv"
      }
    },
    {
      "cell_type": "markdown",
      "source": [
        "## Pre-process the Data"
      ],
      "metadata": {
        "id": "uttquyvGdbqw"
      }
    },
    {
      "cell_type": "code",
      "source": [
        "!pip install -qq dgl-cu110 dglgo -f https://data.dgl.ai/wheels/repo.html &>/dev/null"
      ],
      "metadata": {
        "execution": {
          "iopub.status.busy": "2024-04-22T06:55:30.067659Z",
          "iopub.execute_input": "2024-04-22T06:55:30.068791Z",
          "iopub.status.idle": "2024-04-22T06:56:14.062767Z",
          "shell.execute_reply.started": "2024-04-22T06:55:30.068688Z",
          "shell.execute_reply": "2024-04-22T06:56:14.061502Z"
        },
        "trusted": true,
        "id": "FYdcHhhodbqw"
      },
      "execution_count": null,
      "outputs": []
    },
    {
      "cell_type": "code",
      "source": [
        "import pandas as pd\n",
        "import numpy as np\n",
        "import cudf\n",
        "from pandas import Timedelta\n",
        "import os\n",
        "from tqdm.notebook import tqdm\n",
        "import pickle\n",
        "from torch.utils.data import Dataset, DataLoader\n",
        "import math\n",
        "from operator import itemgetter\n",
        "import dgl\n",
        "import tensorflow as tf\n",
        "pd.set_option('display.max_rows', 10000)"
      ],
      "metadata": {
        "execution": {
          "iopub.status.busy": "2024-04-22T06:56:14.064899Z",
          "iopub.execute_input": "2024-04-22T06:56:14.065210Z",
          "iopub.status.idle": "2024-04-22T06:56:21.488521Z",
          "shell.execute_reply.started": "2024-04-22T06:56:14.065181Z",
          "shell.execute_reply": "2024-04-22T06:56:21.487302Z"
        },
        "trusted": true,
        "id": "yyQ-A8O9dbqx",
        "outputId": "fdb64aa3-cf78-49d7-cdd0-9b7ee84eb47c"
      },
      "execution_count": null,
      "outputs": [
        {
          "name": "stderr",
          "text": "DGL backend not selected or invalid.  Assuming PyTorch for now.\n",
          "output_type": "stream"
        },
        {
          "name": "stdout",
          "text": "Setting the default backend to \"pytorch\". You can change it in the ~/.dgl/config.json file or export the DGLBACKEND environment variable.  Valid options are: pytorch, mxnet, tensorflow (all lowercase)\n",
          "output_type": "stream"
        }
      ]
    },
    {
      "cell_type": "code",
      "source": [
        "last_fm_union = cudf.read_parquet('/kaggle/input/lastfm-dataset/lastfm_union.parquet')\n",
        "len(last_fm_union)"
      ],
      "metadata": {
        "execution": {
          "iopub.status.busy": "2024-04-22T06:56:21.490001Z",
          "iopub.execute_input": "2024-04-22T06:56:21.490672Z",
          "iopub.status.idle": "2024-04-22T06:56:39.448046Z",
          "shell.execute_reply.started": "2024-04-22T06:56:21.490638Z",
          "shell.execute_reply": "2024-04-22T06:56:39.447181Z"
        },
        "trusted": true,
        "id": "9QpsJvyNdbqy",
        "outputId": "055a1db9-cc77-482f-e009-4cb199a03340"
      },
      "execution_count": null,
      "outputs": [
        {
          "execution_count": 3,
          "output_type": "execute_result",
          "data": {
            "text/plain": "19098852"
          },
          "metadata": {}
        }
      ]
    },
    {
      "cell_type": "code",
      "source": [
        "last_fm_union.head(3)"
      ],
      "metadata": {
        "execution": {
          "iopub.status.busy": "2024-04-22T06:56:39.449377Z",
          "iopub.execute_input": "2024-04-22T06:56:39.449871Z",
          "iopub.status.idle": "2024-04-22T06:56:39.536460Z",
          "shell.execute_reply.started": "2024-04-22T06:56:39.449830Z",
          "shell.execute_reply": "2024-04-22T06:56:39.535433Z"
        },
        "trusted": true,
        "id": "S0sySWVkdbqy",
        "outputId": "f1591b64-afd4-4ae5-8374-fc7b4378cf62"
      },
      "execution_count": null,
      "outputs": [
        {
          "execution_count": 4,
          "output_type": "execute_result",
          "data": {
            "text/plain": "       user_id           timestamp                             artist_id  \\\n0  user_000001 2009-05-04 23:08:57  f1b1cf71-bd35-4e99-8624-24a6e15f133a   \n1  user_000001 2009-05-04 13:54:10  a7f7df4a-77d8-4f12-8acd-5c60c93f4de8   \n2  user_000001 2009-05-04 13:52:04  a7f7df4a-77d8-4f12-8acd-5c60c93f4de8   \n\n    artist_name track_id                                  track_name gender  \\\n0     Deep Dish     <NA>  Fuck Me Im Famous (Pacha Ibiza)-09-28-2007      M   \n1  åæ¬é¾ä¸     <NA>           Composition 0919 (Live_2009_4_15)      M   \n2  åæ¬é¾ä¸     <NA>                        Mc2 (Live_2009_4_15)      M   \n\n    age country registered  \n0  <NA>   JAPAN 2006-08-13  \n1  <NA>   JAPAN 2006-08-13  \n2  <NA>   JAPAN 2006-08-13  ",
            "text/html": "<div>\n<style scoped>\n    .dataframe tbody tr th:only-of-type {\n        vertical-align: middle;\n    }\n\n    .dataframe tbody tr th {\n        vertical-align: top;\n    }\n\n    .dataframe thead th {\n        text-align: right;\n    }\n</style>\n<table border=\"1\" class=\"dataframe\">\n  <thead>\n    <tr style=\"text-align: right;\">\n      <th></th>\n      <th>user_id</th>\n      <th>timestamp</th>\n      <th>artist_id</th>\n      <th>artist_name</th>\n      <th>track_id</th>\n      <th>track_name</th>\n      <th>gender</th>\n      <th>age</th>\n      <th>country</th>\n      <th>registered</th>\n    </tr>\n  </thead>\n  <tbody>\n    <tr>\n      <th>0</th>\n      <td>user_000001</td>\n      <td>2009-05-04 23:08:57</td>\n      <td>f1b1cf71-bd35-4e99-8624-24a6e15f133a</td>\n      <td>Deep Dish</td>\n      <td>&lt;NA&gt;</td>\n      <td>Fuck Me Im Famous (Pacha Ibiza)-09-28-2007</td>\n      <td>M</td>\n      <td>&lt;NA&gt;</td>\n      <td>JAPAN</td>\n      <td>2006-08-13</td>\n    </tr>\n    <tr>\n      <th>1</th>\n      <td>user_000001</td>\n      <td>2009-05-04 13:54:10</td>\n      <td>a7f7df4a-77d8-4f12-8acd-5c60c93f4de8</td>\n      <td>åæ¬é¾ä¸</td>\n      <td>&lt;NA&gt;</td>\n      <td>Composition 0919 (Live_2009_4_15)</td>\n      <td>M</td>\n      <td>&lt;NA&gt;</td>\n      <td>JAPAN</td>\n      <td>2006-08-13</td>\n    </tr>\n    <tr>\n      <th>2</th>\n      <td>user_000001</td>\n      <td>2009-05-04 13:52:04</td>\n      <td>a7f7df4a-77d8-4f12-8acd-5c60c93f4de8</td>\n      <td>åæ¬é¾ä¸</td>\n      <td>&lt;NA&gt;</td>\n      <td>Mc2 (Live_2009_4_15)</td>\n      <td>M</td>\n      <td>&lt;NA&gt;</td>\n      <td>JAPAN</td>\n      <td>2006-08-13</td>\n    </tr>\n  </tbody>\n</table>\n</div>"
          },
          "metadata": {}
        }
      ]
    },
    {
      "cell_type": "code",
      "source": [
        "print(f\" # Unique User : {last_fm_union['user_id'].nunique()}, # Unique Artist : {last_fm_union['artist_id'].nunique()}\")"
      ],
      "metadata": {
        "execution": {
          "iopub.status.busy": "2024-04-22T06:56:39.539137Z",
          "iopub.execute_input": "2024-04-22T06:56:39.539485Z",
          "iopub.status.idle": "2024-04-22T06:56:41.674244Z",
          "shell.execute_reply.started": "2024-04-22T06:56:39.539456Z",
          "shell.execute_reply": "2024-04-22T06:56:41.673110Z"
        },
        "trusted": true,
        "id": "hLOCnhxRdbqy",
        "outputId": "2e14b1d4-1df5-4b2c-b946-1c0baf3321fb"
      },
      "execution_count": null,
      "outputs": [
        {
          "name": "stdout",
          "text": " # Unique User : 992, # Unique Artist : 107295\n",
          "output_type": "stream"
        }
      ]
    },
    {
      "cell_type": "code",
      "source": [
        "def get_session_id(df, interval):\n",
        "    df_prev = df.shift()\n",
        "    is_new_session = (df.userId != df_prev.userId) | (\n",
        "        df.timestamp - df_prev.timestamp > interval\n",
        "    )\n",
        "    session_id = is_new_session.cumsum() - 1\n",
        "    return session_id\n",
        "\n",
        "\n",
        "def group_sessions(df, interval):\n",
        "    sessionId = get_session_id(df, interval)\n",
        "    df = df.assign(sessionId=sessionId)\n",
        "    return df\n",
        "\n",
        "\n",
        "def filter_short_sessions(df, min_len=2):\n",
        "    session_len = df.groupby('sessionId', sort=False).size()\n",
        "    long_sessions = session_len[session_len >= min_len].index\n",
        "    df_long = df[df.sessionId.isin(long_sessions)]\n",
        "    return df_long\n",
        "\n",
        "\n",
        "def filter_infreq_items(df, min_support=5):\n",
        "    item_support = df.groupby('itemId', sort=False).size()\n",
        "    freq_items = item_support[item_support >= min_support].index\n",
        "    df_freq = df[df.itemId.isin(freq_items)]\n",
        "    return df_freq\n",
        "\n",
        "\n",
        "def filter_until_all_long_and_freq(df, min_len=2, min_support=5):\n",
        "    while True:\n",
        "        df_long = filter_short_sessions(df, min_len)\n",
        "        df_freq = filter_infreq_items(df_long, min_support)\n",
        "        if len(df_freq) == len(df):\n",
        "            break\n",
        "        df = df_freq\n",
        "    return df\n",
        "\n",
        "\n",
        "def truncate_long_sessions(df, max_len=20, is_sorted=False):\n",
        "    if not is_sorted:\n",
        "        df = df.sort_values(['sessionId', 'timestamp'])\n",
        "    itemIdx = df.groupby('sessionId').cumcount()\n",
        "    df_t = df[itemIdx < max_len]\n",
        "    return df_t\n",
        "\n",
        "\n",
        "def update_id(df, field):\n",
        "    labels = cudf.factorize(df[field])[0]\n",
        "    kwargs = {field: labels}\n",
        "    df = df.assign(**kwargs)\n",
        "    return df\n",
        "\n",
        "\n",
        "def remove_immediate_repeats(df):\n",
        "    df_prev = df.shift()\n",
        "    is_not_repeat = (df.sessionId != df_prev.sessionId) | (df.itemId != df_prev.itemId)\n",
        "    df_no_repeat = df[is_not_repeat]\n",
        "    return df_no_repeat\n",
        "\n",
        "\n",
        "def reorder_sessions_by_endtime(df):\n",
        "    endtime = df.groupby('sessionId', sort=False).timestamp.max()\n",
        "    df_endtime = endtime.sort_values().reset_index()\n",
        "    oid2nid = dict(zip(df_endtime.sessionId, df_endtime.index))\n",
        "    sessionId_new = df.sessionId.map(oid2nid)\n",
        "    df = df.assign(sessionId=sessionId_new)\n",
        "    df = df.sort_values(['sessionId', 'timestamp'])\n",
        "    return df\n",
        "\n",
        "\n",
        "def keep_top_n_items(df, n):\n",
        "    item_support = df.groupby('itemId', sort=False).size()\n",
        "    top_items = item_support.nlargest(n).index\n",
        "    df_top = df[df.itemId.isin(top_items)]\n",
        "    return df_top\n",
        "\n",
        "\n",
        "def split_by_time(df, timedelta):\n",
        "    max_time = df.timestamp.max()\n",
        "    end_time = df.groupby('sessionId').timestamp.max()\n",
        "    split_time = max_time - timedelta\n",
        "    train_sids = end_time[end_time < split_time].index\n",
        "    df_train = df[df.sessionId.isin(train_sids)]\n",
        "    df_test = df[~df.sessionId.isin(train_sids)]\n",
        "    return df_train, df_test\n",
        "\n",
        "\n",
        "def train_test_split(df, test_split=0.2):\n",
        "    endtime = df.groupby('sessionId', sort=False).timestamp.max()\n",
        "    endtime = endtime.sort_values()\n",
        "    num_tests = int(len(endtime) * test_split)\n",
        "    test_session_ids = endtime.index[-num_tests:]\n",
        "    df_train = df[~df.sessionId.isin(test_session_ids)]\n",
        "    df_test = df[df.sessionId.isin(test_session_ids)]\n",
        "    return df_train, df_test\n",
        "\n",
        "\n",
        "def save_sessions(df, filepath):\n",
        "    df = reorder_sessions_by_endtime(df)\n",
        "    sessions = df.groupby('sessionId').itemId.apply(lambda x: ','.join(map(str, x)))\n",
        "    sessions.to_csv(filepath, sep='\\t', header=False, index=False)\n",
        "\n",
        "\n",
        "def save_dataset(dataset_dir, df_train, df_test):\n",
        "    # filter items in test but not in train\n",
        "    df_test = df_test[df_test.itemId.isin(df_train.itemId.unique())]\n",
        "    df_test = filter_short_sessions(df_test)\n",
        "\n",
        "    print(f'No. of Clicks: {len(df_train) + len(df_test)}')\n",
        "    print(f'No. of Items: {df_train.itemId.nunique()}')\n",
        "\n",
        "    # update itemId\n",
        "    train_itemId_new, uniques = pd.factorize(df_train.itemId)\n",
        "    df_train = df_train.assign(itemId=train_itemId_new)\n",
        "    oid2nid = {oid: i for i, oid in enumerate(uniques)}\n",
        "    test_itemId_new = df_test.itemId.map(oid2nid)\n",
        "    df_test = df_test.assign(itemId=test_itemId_new)\n",
        "\n",
        "    print(f'saving dataset to {dataset_dir}')\n",
        "    dataset_dir.mkdir(parents=True, exist_ok=True)\n",
        "    save_sessions(df_train, dataset_dir / 'train.txt')\n",
        "    save_sessions(df_test, dataset_dir / 'test.txt')\n",
        "    num_items = len(uniques)\n",
        "    with open(dataset_dir / 'num_items.txt', 'w') as f:\n",
        "        f.write(str(num_items))"
      ],
      "metadata": {
        "execution": {
          "iopub.status.busy": "2024-04-22T06:56:41.675766Z",
          "iopub.execute_input": "2024-04-22T06:56:41.676163Z",
          "iopub.status.idle": "2024-04-22T06:56:41.705423Z",
          "shell.execute_reply.started": "2024-04-22T06:56:41.676108Z",
          "shell.execute_reply": "2024-04-22T06:56:41.704470Z"
        },
        "trusted": true,
        "id": "Lxzi7Rr9dbqy"
      },
      "execution_count": null,
      "outputs": []
    },
    {
      "cell_type": "markdown",
      "source": [
        "## Pre-processing steps - Break sequences into sessions (interval of 8 hours), truncate long sessions, remove infrequency items & short sessions"
      ],
      "metadata": {
        "id": "tI5la1lWdbqz"
      }
    },
    {
      "cell_type": "code",
      "source": [
        "interval = Timedelta(hours=8)\n",
        "n = 40000\n",
        "\n",
        "last_fm_union = cudf.read_parquet('/kaggle/input/lastfm-dataset/lastfm_union.parquet')\n",
        "last_fm_union = last_fm_union[['user_id','timestamp','artist_id']]\n",
        "last_fm_union.columns = ['userId', 'timestamp', 'itemId']\n",
        "\n",
        "last_fm_union = last_fm_union.dropna()\n",
        "last_fm_union = update_id(last_fm_union, 'userId')\n",
        "last_fm_union = update_id(last_fm_union, 'itemId')\n",
        "last_fm_union = last_fm_union.sort_values(['userId', 'timestamp'])\n",
        "\n",
        "last_fm_union = group_sessions(last_fm_union, interval)\n",
        "last_fm_union = remove_immediate_repeats(last_fm_union)\n",
        "last_fm_union = truncate_long_sessions(last_fm_union, is_sorted=True)\n",
        "last_fm_union = keep_top_n_items(last_fm_union, n)\n",
        "last_fm_union = filter_until_all_long_and_freq(last_fm_union)"
      ],
      "metadata": {
        "execution": {
          "iopub.status.busy": "2024-04-22T06:56:41.706661Z",
          "iopub.execute_input": "2024-04-22T06:56:41.706938Z",
          "iopub.status.idle": "2024-04-22T06:56:48.999384Z",
          "shell.execute_reply.started": "2024-04-22T06:56:41.706912Z",
          "shell.execute_reply": "2024-04-22T06:56:48.998295Z"
        },
        "trusted": true,
        "id": "QwAQTAdpdbqz"
      },
      "execution_count": null,
      "outputs": []
    },
    {
      "cell_type": "code",
      "source": [
        "last_fm_union.tail(5)"
      ],
      "metadata": {
        "execution": {
          "iopub.status.busy": "2024-04-22T06:56:49.000722Z",
          "iopub.execute_input": "2024-04-22T06:56:49.001020Z",
          "iopub.status.idle": "2024-04-22T06:56:49.029441Z",
          "shell.execute_reply.started": "2024-04-22T06:56:49.000994Z",
          "shell.execute_reply": "2024-04-22T06:56:49.028325Z"
        },
        "trusted": true,
        "id": "2CVrzQyrdbq0",
        "outputId": "79ede2aa-e9ae-4547-aab4-13b33e01516d"
      },
      "execution_count": null,
      "outputs": [
        {
          "execution_count": 8,
          "output_type": "execute_result",
          "data": {
            "text/plain": "          userId           timestamp  itemId  sessionId\n19080499     991 2009-05-02 19:51:15   15252     385133\n19080498     991 2009-05-02 19:57:17    8519     385133\n19080497     991 2009-05-03 03:48:04   59521     385133\n19080485     991 2009-05-03 20:28:10   97231     385134\n19080484     991 2009-05-04 00:27:31  105799     385134",
            "text/html": "<div>\n<style scoped>\n    .dataframe tbody tr th:only-of-type {\n        vertical-align: middle;\n    }\n\n    .dataframe tbody tr th {\n        vertical-align: top;\n    }\n\n    .dataframe thead th {\n        text-align: right;\n    }\n</style>\n<table border=\"1\" class=\"dataframe\">\n  <thead>\n    <tr style=\"text-align: right;\">\n      <th></th>\n      <th>userId</th>\n      <th>timestamp</th>\n      <th>itemId</th>\n      <th>sessionId</th>\n    </tr>\n  </thead>\n  <tbody>\n    <tr>\n      <th>19080499</th>\n      <td>991</td>\n      <td>2009-05-02 19:51:15</td>\n      <td>15252</td>\n      <td>385133</td>\n    </tr>\n    <tr>\n      <th>19080498</th>\n      <td>991</td>\n      <td>2009-05-02 19:57:17</td>\n      <td>8519</td>\n      <td>385133</td>\n    </tr>\n    <tr>\n      <th>19080497</th>\n      <td>991</td>\n      <td>2009-05-03 03:48:04</td>\n      <td>59521</td>\n      <td>385133</td>\n    </tr>\n    <tr>\n      <th>19080485</th>\n      <td>991</td>\n      <td>2009-05-03 20:28:10</td>\n      <td>97231</td>\n      <td>385134</td>\n    </tr>\n    <tr>\n      <th>19080484</th>\n      <td>991</td>\n      <td>2009-05-04 00:27:31</td>\n      <td>105799</td>\n      <td>385134</td>\n    </tr>\n  </tbody>\n</table>\n</div>"
          },
          "metadata": {}
        }
      ]
    },
    {
      "cell_type": "code",
      "source": [
        "print(\"After Pre-processing - \")\n",
        "print(f\"#Users : {last_fm_union['userId'].nunique()} #Items : {last_fm_union['itemId'].nunique()} #Sessions : {last_fm_union['sessionId'].nunique()} \")"
      ],
      "metadata": {
        "execution": {
          "iopub.status.busy": "2024-04-22T06:56:49.030929Z",
          "iopub.execute_input": "2024-04-22T06:56:49.031318Z",
          "iopub.status.idle": "2024-04-22T06:56:49.150470Z",
          "shell.execute_reply.started": "2024-04-22T06:56:49.031287Z",
          "shell.execute_reply": "2024-04-22T06:56:49.149489Z"
        },
        "trusted": true,
        "id": "Td7QriTEdbq0",
        "outputId": "fc26f0c5-15e6-4ccd-8b8e-6d22aac2ce4c"
      },
      "execution_count": null,
      "outputs": [
        {
          "name": "stdout",
          "text": "After Pre-processing - \n#Users : 989 #Items : 39767 #Sessions : 325957 \n",
          "output_type": "stream"
        }
      ]
    },
    {
      "cell_type": "markdown",
      "source": [
        "Save all the intermeddiate Data in **lastfm** folder"
      ],
      "metadata": {
        "id": "5boyhwLfdbq0"
      }
    },
    {
      "cell_type": "code",
      "source": [
        "!mkdir lastfm"
      ],
      "metadata": {
        "execution": {
          "iopub.status.busy": "2024-04-22T06:56:49.151778Z",
          "iopub.execute_input": "2024-04-22T06:56:49.152058Z",
          "iopub.status.idle": "2024-04-22T06:56:50.206076Z",
          "shell.execute_reply.started": "2024-04-22T06:56:49.152031Z",
          "shell.execute_reply": "2024-04-22T06:56:50.204887Z"
        },
        "trusted": true,
        "id": "SXvJO-BGdbq0"
      },
      "execution_count": null,
      "outputs": []
    },
    {
      "cell_type": "code",
      "source": [
        "saved_path = 'lastfm'"
      ],
      "metadata": {
        "execution": {
          "iopub.status.busy": "2024-04-22T06:56:50.207833Z",
          "iopub.execute_input": "2024-04-22T06:56:50.208619Z",
          "iopub.status.idle": "2024-04-22T06:56:50.213456Z",
          "shell.execute_reply.started": "2024-04-22T06:56:50.208573Z",
          "shell.execute_reply": "2024-04-22T06:56:50.212348Z"
        },
        "trusted": true,
        "id": "Xic-I_7Fdbq0"
      },
      "execution_count": null,
      "outputs": []
    },
    {
      "cell_type": "code",
      "source": [
        "last_fm_union.to_csv(f'{saved_path}/'+'data.txt',sep=',',header=None,index=False)"
      ],
      "metadata": {
        "execution": {
          "iopub.status.busy": "2024-04-22T06:56:50.214841Z",
          "iopub.execute_input": "2024-04-22T06:56:50.215199Z",
          "iopub.status.idle": "2024-04-22T06:56:50.542172Z",
          "shell.execute_reply.started": "2024-04-22T06:56:50.215128Z",
          "shell.execute_reply": "2024-04-22T06:56:50.541320Z"
        },
        "trusted": true,
        "id": "w4bJXtjidbq1"
      },
      "execution_count": null,
      "outputs": []
    },
    {
      "cell_type": "markdown",
      "source": [
        "### Split sessions into train and test set\n"
      ],
      "metadata": {
        "id": "3FvRyTSFdbq1"
      }
    },
    {
      "cell_type": "code",
      "source": [
        "def _agg_all_seq(df):\n",
        "    \"\"\"\n",
        "    {u:[[s1],[s2],[s3],....]}\n",
        "    \"\"\"\n",
        "    res=[]\n",
        "    for u,ug in tqdm(df.groupby('userId')):\n",
        "        res+=ug.groupby('sessionId')['itemId'].agg(list).to_arrow().to_pylist()\n",
        "    with open(os.path.join(saved_path,'all_train_seq.txt'),'wb') as f:\n",
        "        pickle.dump(res,f)\n",
        "    return res"
      ],
      "metadata": {
        "execution": {
          "iopub.status.busy": "2024-04-22T06:56:50.543547Z",
          "iopub.execute_input": "2024-04-22T06:56:50.544369Z",
          "iopub.status.idle": "2024-04-22T06:56:50.551063Z",
          "shell.execute_reply.started": "2024-04-22T06:56:50.544334Z",
          "shell.execute_reply": "2024-04-22T06:56:50.550136Z"
        },
        "trusted": true,
        "id": "Uebbz1ggdbq1"
      },
      "execution_count": null,
      "outputs": []
    },
    {
      "cell_type": "code",
      "source": [
        "def _agg_df(df):\n",
        "    \"\"\"\n",
        "    {u:[[s1],[s2],[s3],....]}\n",
        "    \"\"\"\n",
        "    res={}\n",
        "    for u,ug in tqdm(df.groupby('userId')):\n",
        "        res.setdefault(u,[])\n",
        "        res[u]=ug.groupby('sessionId')['itemId'].agg(list).to_arrow().to_pylist()\n",
        "    return res"
      ],
      "metadata": {
        "execution": {
          "iopub.status.busy": "2024-04-22T06:56:50.557571Z",
          "iopub.execute_input": "2024-04-22T06:56:50.557944Z",
          "iopub.status.idle": "2024-04-22T06:56:50.563971Z",
          "shell.execute_reply.started": "2024-04-22T06:56:50.557917Z",
          "shell.execute_reply": "2024-04-22T06:56:50.562914Z"
        },
        "trusted": true,
        "id": "n2LRGiq-dbq1"
      },
      "execution_count": null,
      "outputs": []
    },
    {
      "cell_type": "code",
      "source": [
        "def _split_data():\n",
        "    print('split data...')\n",
        "    val_ratio = 0.2\n",
        "    test_split= 0.2\n",
        "    df=cudf.read_csv(os.path.join(saved_path,'data.txt'),header=None,names=['userId', 'timestamp', 'itemId','sessionId'])\n",
        "    print(df['userId'].nunique())\n",
        "    print(df['itemId'].nunique())\n",
        "    print(df['itemId'].max(),df['itemId'].min())\n",
        "    endtime = df.groupby('sessionId', sort=False).timestamp.max()\n",
        "    endtime = endtime.sort_values()\n",
        "    num_tests = int(len(endtime) * test_split)\n",
        "    test_session_ids = endtime.index[-num_tests:]\n",
        "    df_train = df[~df.sessionId.isin(test_session_ids)]\n",
        "    df_test = df[df.sessionId.isin(test_session_ids)].reset_index(drop=True)\n",
        "\n",
        "    ## remap index\n",
        "    df_test = df_test[df_test.itemId.isin(df_train.itemId.unique())]\n",
        "    df_test = filter_short_sessions(df_test)\n",
        "\n",
        "    train_itemId_new, uniques = cudf.factorize(df_train.itemId)\n",
        "    df_train = df_train.assign(itemId=train_itemId_new)\n",
        "    oid2nid = {oid: i for i, oid in enumerate(uniques.to_pandas())}\n",
        "    test_itemId_new = df_test.itemId.map(oid2nid)\n",
        "    df_test = df_test.assign(itemId=test_itemId_new)\n",
        "    df_train['userId']+=1\n",
        "    df_train['itemId']+=1\n",
        "    df_test['userId']+=1\n",
        "    df_test['itemId']+=1\n",
        "\n",
        "    _agg_all_seq(df_train)\n",
        "\n",
        "\n",
        "    print(df_train['userId'].min(),df_train['userId'].max())\n",
        "    print(df_train['itemId'].max(),df_train['itemId'].min())\n",
        "    print(df_test['itemId'].max(),df_test['itemId'].min())\n",
        "\n",
        "    # split\n",
        "    df_test=df_test.reset_index(drop=True)\n",
        "    df_val= df_test.sample(frac=val_ratio)\n",
        "    part_test=df_test[~df_test.index.isin(df_val.index)]\n",
        "\n",
        "    df_train.to_csv(os.path.join(saved_path, 'df_train.csv'), header = True, index = False)\n",
        "    df_val.to_csv(os.path.join(saved_path, 'df_val.csv'), header = True, index = False)\n",
        "    part_test.to_csv(os.path.join(saved_path, 'part_test.csv'), header = True, index = False)\n",
        "    df_test.to_csv(os.path.join(saved_path, 'df_test.csv'), header = True, index = False)\n",
        "\n",
        "    with open(os.path.join(saved_path,'train.pkl'),'wb') as f:\n",
        "        pickle.dump(_agg_df(df_train),f)\n",
        "\n",
        "    with open(os.path.join(saved_path,'val.pkl'),'wb') as f:\n",
        "        pickle.dump(_agg_df(df_val),f)\n",
        "\n",
        "    with open(os.path.join(saved_path,'test.pkl'),'wb') as f:\n",
        "        pickle.dump(_agg_df(part_test),f)\n",
        "\n",
        "    with open(os.path.join(saved_path,'all_test.pkl'),'wb') as f:\n",
        "        pickle.dump(_agg_df(df_test),f)"
      ],
      "metadata": {
        "execution": {
          "iopub.status.busy": "2024-04-22T06:56:50.565391Z",
          "iopub.execute_input": "2024-04-22T06:56:50.565730Z",
          "iopub.status.idle": "2024-04-22T06:56:50.585930Z",
          "shell.execute_reply.started": "2024-04-22T06:56:50.565704Z",
          "shell.execute_reply": "2024-04-22T06:56:50.584937Z"
        },
        "trusted": true,
        "id": "C5OqJtIWdbq1"
      },
      "execution_count": null,
      "outputs": []
    },
    {
      "cell_type": "code",
      "source": [
        "%%time\n",
        "_split_data()"
      ],
      "metadata": {
        "execution": {
          "iopub.status.busy": "2024-04-22T06:56:50.587199Z",
          "iopub.execute_input": "2024-04-22T06:56:50.587546Z",
          "iopub.status.idle": "2024-04-22T06:57:33.626771Z",
          "shell.execute_reply.started": "2024-04-22T06:56:50.587506Z",
          "shell.execute_reply": "2024-04-22T06:57:33.625848Z"
        },
        "trusted": true,
        "id": "dDHVIxO4dbq2",
        "outputId": "a9cb286d-a949-4cc9-8ffd-3f6870d48694",
        "colab": {
          "referenced_widgets": [
            "326f319c58284780813f01f17261b28a",
            "ca9eb0b3306846fdadfef82a29ee2e21",
            "62be7596af024a35ad1763c7917e6bb6",
            "ffea75ec17e1410b941e2a726dc6e021",
            "c8c97b29490f465a8ad2e757de3fa50e"
          ]
        }
      },
      "execution_count": null,
      "outputs": [
        {
          "name": "stdout",
          "text": "split data...\n989\n39767\n107291 2\n",
          "output_type": "stream"
        },
        {
          "output_type": "display_data",
          "data": {
            "text/plain": "0it [00:00, ?it/s]",
            "application/vnd.jupyter.widget-view+json": {
              "version_major": 2,
              "version_minor": 0,
              "model_id": "326f319c58284780813f01f17261b28a"
            }
          },
          "metadata": {}
        },
        {
          "name": "stdout",
          "text": "1 992\n38569 1\n38569 1\n",
          "output_type": "stream"
        },
        {
          "output_type": "display_data",
          "data": {
            "text/plain": "0it [00:00, ?it/s]",
            "application/vnd.jupyter.widget-view+json": {
              "version_major": 2,
              "version_minor": 0,
              "model_id": "ca9eb0b3306846fdadfef82a29ee2e21"
            }
          },
          "metadata": {}
        },
        {
          "output_type": "display_data",
          "data": {
            "text/plain": "0it [00:00, ?it/s]",
            "application/vnd.jupyter.widget-view+json": {
              "version_major": 2,
              "version_minor": 0,
              "model_id": "62be7596af024a35ad1763c7917e6bb6"
            }
          },
          "metadata": {}
        },
        {
          "output_type": "display_data",
          "data": {
            "text/plain": "0it [00:00, ?it/s]",
            "application/vnd.jupyter.widget-view+json": {
              "version_major": 2,
              "version_minor": 0,
              "model_id": "ffea75ec17e1410b941e2a726dc6e021"
            }
          },
          "metadata": {}
        },
        {
          "output_type": "display_data",
          "data": {
            "text/plain": "0it [00:00, ?it/s]",
            "application/vnd.jupyter.widget-view+json": {
              "version_major": 2,
              "version_minor": 0,
              "model_id": "c8c97b29490f465a8ad2e757de3fa50e"
            }
          },
          "metadata": {}
        },
        {
          "name": "stdout",
          "text": "CPU times: user 42.2 s, sys: 869 ms, total: 43.1 s\nWall time: 43 s\n",
          "output_type": "stream"
        }
      ]
    },
    {
      "cell_type": "code",
      "source": [
        "with open('/kaggle/working/lastfm/train.pkl', 'rb') as f:\n",
        "    train_pkl = pickle.load(f)"
      ],
      "metadata": {
        "execution": {
          "iopub.status.busy": "2024-04-22T06:57:33.628158Z",
          "iopub.execute_input": "2024-04-22T06:57:33.628563Z",
          "iopub.status.idle": "2024-04-22T06:57:34.397318Z",
          "shell.execute_reply.started": "2024-04-22T06:57:33.628521Z",
          "shell.execute_reply": "2024-04-22T06:57:34.396383Z"
        },
        "trusted": true,
        "id": "Ld8T9Aladbq3"
      },
      "execution_count": null,
      "outputs": []
    },
    {
      "cell_type": "code",
      "source": [
        "print(f\" Number of Unique Users in Output Dictionary : {len(train_pkl) }\")"
      ],
      "metadata": {
        "execution": {
          "iopub.status.busy": "2024-04-22T06:57:34.398588Z",
          "iopub.execute_input": "2024-04-22T06:57:34.398895Z",
          "iopub.status.idle": "2024-04-22T06:57:34.404737Z",
          "shell.execute_reply.started": "2024-04-22T06:57:34.398867Z",
          "shell.execute_reply": "2024-04-22T06:57:34.403617Z"
        },
        "trusted": true,
        "id": "FACdv9BPdbq3",
        "outputId": "7876eabf-6806-484d-e872-8df33d6d07b9"
      },
      "execution_count": null,
      "outputs": [
        {
          "name": "stdout",
          "text": " Number of Unique Users in Output Dictionary : 897\n",
          "output_type": "stream"
        }
      ]
    },
    {
      "cell_type": "code",
      "source": [
        "print(f\" Number of sessions for Used ID 1 is {len(train_pkl[1])} and 1st Session of User 1 has {len(train_pkl[1][0])} items while 2nd session has {len(train_pkl[1][1])} items\")"
      ],
      "metadata": {
        "execution": {
          "iopub.status.busy": "2024-04-22T06:57:34.406246Z",
          "iopub.execute_input": "2024-04-22T06:57:34.406666Z",
          "iopub.status.idle": "2024-04-22T06:57:34.415583Z",
          "shell.execute_reply.started": "2024-04-22T06:57:34.406626Z",
          "shell.execute_reply": "2024-04-22T06:57:34.414493Z"
        },
        "trusted": true,
        "id": "2CxrHl8wdbq3",
        "outputId": "fe859dc0-6d5d-43ae-fbba-c272d09e6325"
      },
      "execution_count": null,
      "outputs": [
        {
          "name": "stdout",
          "text": " Number of sessions for Used ID 1 is 284 and 1st Session of User 1 has 17 items while 2nd session has 16 items\n",
          "output_type": "stream"
        }
      ]
    },
    {
      "cell_type": "markdown",
      "source": [
        "## Create training samples from the session sequences and corresponding Label\n"
      ],
      "metadata": {
        "id": "lDibHhSodbq3"
      }
    },
    {
      "cell_type": "code",
      "source": [
        "def common_seq(data_list):\n",
        "    out_seqs=[]\n",
        "    label=[]\n",
        "    uid=[]\n",
        "    for u in tqdm(data_list,desc='gen_seq...',leave=False):\n",
        "        u_seqs=data_list[u]\n",
        "        for seq in u_seqs:\n",
        "            for i in range(1,len(seq)):\n",
        "                uid.append(int(u))\n",
        "                out_seqs.append(seq[:-i])\n",
        "                label.append([seq[-i]])\n",
        "\n",
        "    final_seqs=[]\n",
        "    for i in range(len(uid)):\n",
        "        final_seqs.append([uid[i],out_seqs[i],label[i]])\n",
        "    return final_seqs"
      ],
      "metadata": {
        "execution": {
          "iopub.status.busy": "2024-04-22T06:57:34.416915Z",
          "iopub.execute_input": "2024-04-22T06:57:34.417295Z",
          "iopub.status.idle": "2024-04-22T06:57:34.426776Z",
          "shell.execute_reply.started": "2024-04-22T06:57:34.417250Z",
          "shell.execute_reply": "2024-04-22T06:57:34.425804Z"
        },
        "trusted": true,
        "id": "L5sKdEUldbq4"
      },
      "execution_count": null,
      "outputs": []
    },
    {
      "cell_type": "code",
      "source": [
        "with open(os.path.join(saved_path,'train.pkl'),'rb') as f:\n",
        "     train_data=pickle.load(f)\n",
        "\n",
        "max_vid=0\n",
        "max_uid=0\n",
        "\n",
        "for u in tqdm(train_data):\n",
        "    if u>max_uid:\n",
        "        max_uid=u\n",
        "    for sess in train_data[u]:\n",
        "        if max_vid<max(sess):\n",
        "            max_vid=max(sess)\n",
        "\n",
        "try:\n",
        "    with open(os.path.join(saved_path,'all_test.pkl'),'rb') as f:\n",
        "        test_data=pickle.load(f)\n",
        "except:\n",
        "    with open(os.path.join(saved_path,'test.pkl'),'rb') as f:\n",
        "        test_data=pickle.load(f)\n",
        "\n",
        "train_data=common_seq(train_data)\n",
        "test_data=common_seq(test_data)\n",
        "\n",
        "with open(os.path.join(saved_path,'test_seq.pkl'),'wb') as f:\n",
        "    pickle.dump(test_data,f)\n",
        "\n",
        "with open(os.path.join(saved_path,'train_seq.pkl'),'wb') as f:\n",
        "    pickle.dump(train_data,f)"
      ],
      "metadata": {
        "execution": {
          "iopub.status.busy": "2024-04-22T06:57:34.427996Z",
          "iopub.execute_input": "2024-04-22T06:57:34.428333Z",
          "iopub.status.idle": "2024-04-22T06:57:55.128287Z",
          "shell.execute_reply.started": "2024-04-22T06:57:34.428304Z",
          "shell.execute_reply": "2024-04-22T06:57:55.127164Z"
        },
        "trusted": true,
        "id": "RGfVTNKwdbq4",
        "outputId": "6a2dca36-e151-4c44-b5b7-e252d2ddea5a",
        "colab": {
          "referenced_widgets": [
            "fdf41bfe4a5e4e64967f6d9c55f880ee",
            ""
          ]
        }
      },
      "execution_count": null,
      "outputs": [
        {
          "output_type": "display_data",
          "data": {
            "text/plain": "  0%|          | 0/897 [00:00<?, ?it/s]",
            "application/vnd.jupyter.widget-view+json": {
              "version_major": 2,
              "version_minor": 0,
              "model_id": "fdf41bfe4a5e4e64967f6d9c55f880ee"
            }
          },
          "metadata": {}
        },
        {
          "output_type": "display_data",
          "data": {
            "text/plain": "gen_seq...:   0%|          | 0/897 [00:00<?, ?it/s]",
            "application/vnd.jupyter.widget-view+json": {
              "version_major": 2,
              "version_minor": 0,
              "model_id": ""
            }
          },
          "metadata": {}
        },
        {
          "output_type": "display_data",
          "data": {
            "text/plain": "gen_seq...:   0%|          | 0/796 [00:00<?, ?it/s]",
            "application/vnd.jupyter.widget-view+json": {
              "version_major": 2,
              "version_minor": 0,
              "model_id": ""
            }
          },
          "metadata": {}
        }
      ]
    },
    {
      "cell_type": "code",
      "source": [
        "with open('/kaggle/working/lastfm/train_seq.pkl', 'rb') as f:\n",
        "    train_seq = pickle.load(f)"
      ],
      "metadata": {
        "execution": {
          "iopub.status.busy": "2024-04-22T06:57:55.129653Z",
          "iopub.execute_input": "2024-04-22T06:57:55.129939Z",
          "iopub.status.idle": "2024-04-22T06:58:05.492943Z",
          "shell.execute_reply.started": "2024-04-22T06:57:55.129913Z",
          "shell.execute_reply": "2024-04-22T06:58:05.491843Z"
        },
        "trusted": true,
        "id": "2eu8U7TFdbq4"
      },
      "execution_count": null,
      "outputs": []
    },
    {
      "cell_type": "code",
      "source": [
        "print(f\"Number of Training Sequence is {len(train_seq)} \")"
      ],
      "metadata": {
        "execution": {
          "iopub.status.busy": "2024-04-22T06:58:05.494228Z",
          "iopub.execute_input": "2024-04-22T06:58:05.494571Z",
          "iopub.status.idle": "2024-04-22T06:58:05.499975Z",
          "shell.execute_reply.started": "2024-04-22T06:58:05.494539Z",
          "shell.execute_reply": "2024-04-22T06:58:05.498919Z"
        },
        "trusted": true,
        "id": "29Dg1ciedbq4",
        "outputId": "f4b0fa43-0079-4a5b-d2d6-136ce66ebff5"
      },
      "execution_count": null,
      "outputs": [
        {
          "name": "stdout",
          "text": "Number of Training Sequence is 2837544 \n",
          "output_type": "stream"
        }
      ]
    },
    {
      "cell_type": "code",
      "source": [
        "with open('/kaggle/working/lastfm/test_seq.pkl', 'rb') as f:\n",
        "    test_seq = pickle.load(f)"
      ],
      "metadata": {
        "execution": {
          "iopub.status.busy": "2024-04-22T06:58:05.501625Z",
          "iopub.execute_input": "2024-04-22T06:58:05.502042Z",
          "iopub.status.idle": "2024-04-22T06:58:06.821598Z",
          "shell.execute_reply.started": "2024-04-22T06:58:05.502004Z",
          "shell.execute_reply": "2024-04-22T06:58:06.820446Z"
        },
        "trusted": true,
        "id": "-csWf3Fsdbq4"
      },
      "execution_count": null,
      "outputs": []
    },
    {
      "cell_type": "code",
      "source": [
        "print(f\"Number of Test Sequence is {len(test_seq)} \")"
      ],
      "metadata": {
        "execution": {
          "iopub.status.busy": "2024-04-22T06:58:06.825642Z",
          "iopub.execute_input": "2024-04-22T06:58:06.826015Z",
          "iopub.status.idle": "2024-04-22T06:58:06.832485Z",
          "shell.execute_reply.started": "2024-04-22T06:58:06.825981Z",
          "shell.execute_reply": "2024-04-22T06:58:06.831007Z"
        },
        "trusted": true,
        "id": "nP2BPYyidbq4",
        "outputId": "a7e648b9-9d09-415f-8816-d74a89bb92cb"
      },
      "execution_count": null,
      "outputs": [
        {
          "name": "stdout",
          "text": "Number of Test Sequence is 672394 \n",
          "output_type": "stream"
        }
      ]
    },
    {
      "cell_type": "markdown",
      "source": [
        "### Create Session Dataset Class & Dataloader.\n"
      ],
      "metadata": {
        "id": "MYGwSwiPdbq4"
      }
    },
    {
      "cell_type": "code",
      "source": [
        "SZ = 12\n",
        "SEQ_LEN = 10 ## Window Size to create a training Sequence\n",
        "BATCH_SIZE = 512"
      ],
      "metadata": {
        "execution": {
          "iopub.status.busy": "2024-04-22T06:58:06.834223Z",
          "iopub.execute_input": "2024-04-22T06:58:06.834629Z",
          "iopub.status.idle": "2024-04-22T06:58:06.841205Z",
          "shell.execute_reply.started": "2024-04-22T06:58:06.834588Z",
          "shell.execute_reply": "2024-04-22T06:58:06.839772Z"
        },
        "trusted": true,
        "id": "KMoOnwahdbq5"
      },
      "execution_count": null,
      "outputs": []
    },
    {
      "cell_type": "code",
      "source": [
        "class SessionDataset(Dataset):\n",
        "    def __init__(self, data, max_len):\n",
        "        \"\"\"\n",
        "        args:\n",
        "            config(dict):\n",
        "            data_type(int): 0: train 1: val 2:test\n",
        "        \"\"\"\n",
        "        super(SessionDataset, self).__init__()\n",
        "        self.data=data\n",
        "        self.max_seq_len=max_len\n",
        "\n",
        "    def __len__(self):\n",
        "        return len(self.data)\n",
        "\n",
        "    def __getitem__(self, index):\n",
        "        \"\"\"\n",
        "        data format:\n",
        "        <[uid]> <[v1,v2,v3]> <label>\n",
        "        \"\"\"\n",
        "\n",
        "        data=self.data[index]\n",
        "        uid=np.array([data[0]],dtype=int)\n",
        "        browsed_ids=np.zeros((self.max_seq_len),dtype=int)\n",
        "\n",
        "        seq_len=len(data[1][-self.max_seq_len:])\n",
        "        mask=np.array([1 for i in range(seq_len)]+[ 0 for i in range(self.max_seq_len-seq_len)],dtype=int)\n",
        "        pos_idx=np.array([seq_len-i-1 for i in range(seq_len)]+[ 0 for i in range(self.max_seq_len-seq_len)],dtype=int)\n",
        "        browsed_ids[:seq_len]=np.array(data[1][-self.max_seq_len:])\n",
        "\n",
        "        seq_len=np.array(seq_len,dtype=int)\n",
        "\n",
        "        label=np.array(data[2],dtype=int)\n",
        "\n",
        "        return uid,browsed_ids,mask,seq_len,label,pos_idx"
      ],
      "metadata": {
        "execution": {
          "iopub.status.busy": "2024-04-22T06:58:06.842907Z",
          "iopub.execute_input": "2024-04-22T06:58:06.843337Z",
          "iopub.status.idle": "2024-04-22T06:58:06.855515Z",
          "shell.execute_reply.started": "2024-04-22T06:58:06.843297Z",
          "shell.execute_reply": "2024-04-22T06:58:06.854468Z"
        },
        "trusted": true,
        "id": "6TTGKlNIdbq5"
      },
      "execution_count": null,
      "outputs": []
    },
    {
      "cell_type": "code",
      "source": [
        "train_dataset = SessionDataset(train_seq, max_len=SEQ_LEN)\n",
        "test_dataset = SessionDataset(test_seq, max_len=SEQ_LEN)"
      ],
      "metadata": {
        "execution": {
          "iopub.status.busy": "2024-04-22T06:58:06.856575Z",
          "iopub.execute_input": "2024-04-22T06:58:06.856948Z",
          "iopub.status.idle": "2024-04-22T06:58:06.865488Z",
          "shell.execute_reply.started": "2024-04-22T06:58:06.856910Z",
          "shell.execute_reply": "2024-04-22T06:58:06.864545Z"
        },
        "trusted": true,
        "id": "F6o0Xk8Odbq5"
      },
      "execution_count": null,
      "outputs": []
    },
    {
      "cell_type": "code",
      "source": [
        "print(f\" Length of Training Dataset is {len(train_dataset)} & Test Dataset {len(test_dataset)} \")"
      ],
      "metadata": {
        "execution": {
          "iopub.status.busy": "2024-04-22T06:58:06.866740Z",
          "iopub.execute_input": "2024-04-22T06:58:06.867069Z",
          "iopub.status.idle": "2024-04-22T06:58:06.874324Z",
          "shell.execute_reply.started": "2024-04-22T06:58:06.867041Z",
          "shell.execute_reply": "2024-04-22T06:58:06.873115Z"
        },
        "trusted": true,
        "id": "2PcH95Ofdbq5",
        "outputId": "6585c8c4-517b-4283-b906-a29991a1e5a4"
      },
      "execution_count": null,
      "outputs": [
        {
          "name": "stdout",
          "text": " Length of Training Dataset is 2837544 & Test Dataset 672394 \n",
          "output_type": "stream"
        }
      ]
    },
    {
      "cell_type": "code",
      "source": [
        "train_iter = DataLoader(dataset=train_dataset,\n",
        "                            batch_size=BATCH_SIZE,\n",
        "                            num_workers=0,\n",
        "                            drop_last=False,\n",
        "                            shuffle=True,\n",
        "                            pin_memory=False)"
      ],
      "metadata": {
        "execution": {
          "iopub.status.busy": "2024-04-22T06:58:06.875702Z",
          "iopub.execute_input": "2024-04-22T06:58:06.876009Z",
          "iopub.status.idle": "2024-04-22T06:58:06.882210Z",
          "shell.execute_reply.started": "2024-04-22T06:58:06.875969Z",
          "shell.execute_reply": "2024-04-22T06:58:06.881130Z"
        },
        "trusted": true,
        "id": "pDCIGNO2dbq5"
      },
      "execution_count": null,
      "outputs": []
    },
    {
      "cell_type": "code",
      "source": [
        "test_iter = DataLoader(dataset=test_dataset,\n",
        "                            batch_size=BATCH_SIZE,\n",
        "                            num_workers=0,\n",
        "                            drop_last=False,\n",
        "                            shuffle=False,\n",
        "                            pin_memory=False)"
      ],
      "metadata": {
        "execution": {
          "iopub.status.busy": "2024-04-22T06:58:06.884475Z",
          "iopub.execute_input": "2024-04-22T06:58:06.884847Z",
          "iopub.status.idle": "2024-04-22T06:58:06.891438Z",
          "shell.execute_reply.started": "2024-04-22T06:58:06.884813Z",
          "shell.execute_reply": "2024-04-22T06:58:06.890455Z"
        },
        "trusted": true,
        "id": "9hDlvwhcdbq5"
      },
      "execution_count": null,
      "outputs": []
    },
    {
      "cell_type": "code",
      "source": [
        "print(f\" Length of Training DataLoader is {len(train_iter)} & Test DataLoader {len(test_iter)} \")"
      ],
      "metadata": {
        "execution": {
          "iopub.status.busy": "2024-04-22T06:58:06.892731Z",
          "iopub.execute_input": "2024-04-22T06:58:06.893072Z",
          "iopub.status.idle": "2024-04-22T06:58:06.901075Z",
          "shell.execute_reply.started": "2024-04-22T06:58:06.893041Z",
          "shell.execute_reply": "2024-04-22T06:58:06.900020Z"
        },
        "trusted": true,
        "id": "rBUnOS_edbq6",
        "outputId": "d5ed6e96-29ac-49c4-f162-a63529215c2a"
      },
      "execution_count": null,
      "outputs": [
        {
          "name": "stdout",
          "text": " Length of Training DataLoader is 5543 & Test DataLoader 1314 \n",
          "output_type": "stream"
        }
      ]
    },
    {
      "cell_type": "markdown",
      "source": [
        "### Example of DataLoader Output below"
      ],
      "metadata": {
        "id": "1FAY8mC4dbrA"
      }
    },
    {
      "cell_type": "code",
      "source": [
        "eg = next(iter(train_iter))"
      ],
      "metadata": {
        "execution": {
          "iopub.status.busy": "2024-04-22T06:58:06.904588Z",
          "iopub.execute_input": "2024-04-22T06:58:06.904917Z",
          "iopub.status.idle": "2024-04-22T06:58:07.242807Z",
          "shell.execute_reply.started": "2024-04-22T06:58:06.904888Z",
          "shell.execute_reply": "2024-04-22T06:58:07.241722Z"
        },
        "trusted": true,
        "id": "Y8P54NsfdbrA"
      },
      "execution_count": null,
      "outputs": []
    },
    {
      "cell_type": "code",
      "source": [
        "print(f\"Number of elements in the example tuple {len(eg)} - corresponds to uid | browsed_ids | mask | seq_len | label | pos_idx \")"
      ],
      "metadata": {
        "execution": {
          "iopub.status.busy": "2024-04-22T06:58:07.244647Z",
          "iopub.execute_input": "2024-04-22T06:58:07.245046Z",
          "iopub.status.idle": "2024-04-22T06:58:07.251610Z",
          "shell.execute_reply.started": "2024-04-22T06:58:07.245009Z",
          "shell.execute_reply": "2024-04-22T06:58:07.250179Z"
        },
        "trusted": true,
        "id": "5UMeB3RpdbrA",
        "outputId": "fd695871-4c96-4b69-c927-11aae092492c"
      },
      "execution_count": null,
      "outputs": [
        {
          "name": "stdout",
          "text": "Number of elements in the example tuple 6 - corresponds to uid | browsed_ids | mask | seq_len | label | pos_idx \n",
          "output_type": "stream"
        }
      ]
    },
    {
      "cell_type": "code",
      "source": [
        "print(\"Size of - \")\n",
        "print(f\" User ID Tensor - {eg[0].size()} \")\n",
        "print(f\" Sequence of Items - {eg[1].size()} \")\n",
        "print(f\" Sequence of Masks - {eg[2].size()} \")\n",
        "print(f\" Actual Sequence Length (before padding) - {eg[3].size()} \")\n",
        "print(f\" Labels - {eg[4].size()} \")\n",
        "print(f\" Position Index (Oldest Index = 0, Latest Index can be till 9, Padded Index = 0) - {eg[5].size()} \")"
      ],
      "metadata": {
        "execution": {
          "iopub.status.busy": "2024-04-22T06:58:07.253267Z",
          "iopub.execute_input": "2024-04-22T06:58:07.253812Z",
          "iopub.status.idle": "2024-04-22T06:58:07.263656Z",
          "shell.execute_reply.started": "2024-04-22T06:58:07.253773Z",
          "shell.execute_reply": "2024-04-22T06:58:07.262346Z"
        },
        "trusted": true,
        "id": "dyiyZr8ldbrB",
        "outputId": "79fed7e3-ec34-4c8e-8ad1-3ef22bd2d0de"
      },
      "execution_count": null,
      "outputs": [
        {
          "name": "stdout",
          "text": "Size of - \n User ID Tensor - torch.Size([512, 1]) \n Sequence of Items - torch.Size([512, 10]) \n Sequence of Masks - torch.Size([512, 10]) \n Actual Sequence Length (before padding) - torch.Size([512]) \n Labels - torch.Size([512, 1]) \n Position Index (Oldest Index = 0, Latest Index can be till 9, Padded Index = 0) - torch.Size([512, 10]) \n",
          "output_type": "stream"
        }
      ]
    },
    {
      "cell_type": "markdown",
      "source": [
        "#### Example showing actual tensor of a sample from 1st batch of Dataloader"
      ],
      "metadata": {
        "id": "2e8SfAPwdbrB"
      }
    },
    {
      "cell_type": "code",
      "source": [
        "print(\"Actual tensor of - \")\n",
        "print(f\" User ID - {eg[0][0]} \")\n",
        "print(f\" Sequence of Items - {eg[0][1]} \")\n",
        "print(f\" Sequence of Masks - {eg[0][2]} \")\n",
        "print(f\" Actual Sequence Length (before padding) - {eg[0][3]} \")\n",
        "print(f\" Labels - {eg[0][4]} \")\n",
        "print(f\" Position Index (Oldest Index = 0, Latest Index can be till 9, Padded Index = 0) - {eg[0][5]} \")"
      ],
      "metadata": {
        "execution": {
          "iopub.status.busy": "2024-04-22T06:58:07.265042Z",
          "iopub.execute_input": "2024-04-22T06:58:07.266730Z",
          "iopub.status.idle": "2024-04-22T06:58:07.277352Z",
          "shell.execute_reply.started": "2024-04-22T06:58:07.266687Z",
          "shell.execute_reply": "2024-04-22T06:58:07.275654Z"
        },
        "trusted": true,
        "id": "lZRA3ML5dbrB",
        "outputId": "b43fee14-90d8-4cbe-f06c-1875eae9ac86"
      },
      "execution_count": null,
      "outputs": [
        {
          "name": "stdout",
          "text": "Actual tensor of - \n User ID - tensor([607]) \n Sequence of Items - tensor([567]) \n Sequence of Masks - tensor([274]) \n Actual Sequence Length (before padding) - tensor([280]) \n Labels - tensor([260]) \n Position Index (Oldest Index = 0, Latest Index can be till 9, Padded Index = 0) - tensor([715]) \n",
          "output_type": "stream"
        }
      ]
    },
    {
      "cell_type": "markdown",
      "source": [
        "##  Create heterogenous Graph"
      ],
      "metadata": {
        "id": "laPJ8eTtdbrB"
      }
    },
    {
      "cell_type": "markdown",
      "source": [
        "## Create Co-occurance matrix of items based on adjacency of items in same session\n"
      ],
      "metadata": {
        "id": "tunMMsXrdbrB"
      }
    },
    {
      "cell_type": "code",
      "source": [
        "def sample_relations(num, sample_size=20):\n",
        "\n",
        "    adj1 = [dict() for _ in range(num)]\n",
        "    adj2 = [dict() for _ in range(num)]\n",
        "    adj_in = [[] for _ in range(num)]\n",
        "    adj_out = [[] for _ in range(num)]\n",
        "    relation_out = []\n",
        "    relation_in = []\n",
        "\n",
        "    with open(os.path.join(saved_path, 'train.pkl'), 'rb') as f:\n",
        "        graph = pickle.load(f)\n",
        "\n",
        "    for u in tqdm(graph, desc='build the graph...', leave=False):\n",
        "        u_seqs = graph[u]\n",
        "        for s in u_seqs:\n",
        "            for i in range(len(s) - 1):\n",
        "                relation_out.append([s[i], s[i + 1]])\n",
        "                relation_in.append([s[i + 1], s[i]])\n",
        "\n",
        "    for tup in relation_out:\n",
        "        if tup[1] in adj1[tup[0]].keys():\n",
        "            adj1[tup[0]][tup[1]] += 1\n",
        "        else:\n",
        "            adj1[tup[0]][tup[1]] = 1\n",
        "    for tup in relation_in:\n",
        "        if tup[1] in adj2[tup[0]].keys():\n",
        "            adj2[tup[0]][tup[1]] += 1\n",
        "        else:\n",
        "            adj2[tup[0]][tup[1]] = 1\n",
        "\n",
        "    weight = [[] for _ in range(num)]\n",
        "\n",
        "    for t in range(1, num):\n",
        "        x = [v for v in sorted(adj1[t].items(), reverse=True, key=lambda x: x[1])]\n",
        "        adj_out[t] = [v[0] for v in x]\n",
        "\n",
        "    for t in range(1, num):\n",
        "        x = [v for v in sorted(adj2[t].items(), reverse=True, key=lambda x: x[1])]\n",
        "        adj_in[t] = [v[0] for v in x]\n",
        "\n",
        "    # edge sampling\n",
        "    for i in range(1, num):\n",
        "        adj_in[i] = adj_in[i][:sample_size]\n",
        "    for i in range(1, num):\n",
        "        adj_out[i] = adj_out[i][:sample_size]\n",
        "\n",
        "    with open(os.path.join(saved_path, f'adj_{sample_size}.pkl'), 'wb') as f:\n",
        "        pickle.dump([adj_in, adj_out], f)"
      ],
      "metadata": {
        "execution": {
          "iopub.status.busy": "2024-04-22T06:58:07.279396Z",
          "iopub.execute_input": "2024-04-22T06:58:07.279779Z",
          "iopub.status.idle": "2024-04-22T06:58:07.299416Z",
          "shell.execute_reply.started": "2024-04-22T06:58:07.279742Z",
          "shell.execute_reply": "2024-04-22T06:58:07.298475Z"
        },
        "trusted": true,
        "id": "XHvH8XhRdbrB"
      },
      "execution_count": null,
      "outputs": []
    },
    {
      "cell_type": "code",
      "source": [
        "sample_relations(num = 40000, sample_size=SZ)"
      ],
      "metadata": {
        "execution": {
          "iopub.status.busy": "2024-04-22T06:58:07.300461Z",
          "iopub.execute_input": "2024-04-22T06:58:07.300750Z",
          "iopub.status.idle": "2024-04-22T06:58:18.259479Z",
          "shell.execute_reply.started": "2024-04-22T06:58:07.300724Z",
          "shell.execute_reply": "2024-04-22T06:58:18.258658Z"
        },
        "trusted": true,
        "id": "XgGiRrjsdbrC",
        "outputId": "e6345628-6af0-4bd4-e55d-fa2773b21ffb",
        "colab": {
          "referenced_widgets": [
            ""
          ]
        }
      },
      "execution_count": null,
      "outputs": [
        {
          "output_type": "display_data",
          "data": {
            "text/plain": "build the graph...:   0%|          | 0/897 [00:00<?, ?it/s]",
            "application/vnd.jupyter.widget-view+json": {
              "version_major": 2,
              "version_minor": 0,
              "model_id": ""
            }
          },
          "metadata": {}
        }
      ]
    },
    {
      "cell_type": "code",
      "source": [
        "with open(os.path.join(saved_path, f'adj_{SZ}.pkl'), 'rb') as f:\n",
        "    adj = pickle.load(f)"
      ],
      "metadata": {
        "execution": {
          "iopub.status.busy": "2024-04-22T06:58:18.260823Z",
          "iopub.execute_input": "2024-04-22T06:58:18.261256Z",
          "iopub.status.idle": "2024-04-22T06:58:18.346090Z",
          "shell.execute_reply.started": "2024-04-22T06:58:18.261215Z",
          "shell.execute_reply": "2024-04-22T06:58:18.344881Z"
        },
        "trusted": true,
        "id": "0zfad1V5dbrC"
      },
      "execution_count": null,
      "outputs": []
    },
    {
      "cell_type": "code",
      "source": [
        "adj_in, adj_out = adj[0], adj[1]"
      ],
      "metadata": {
        "execution": {
          "iopub.status.busy": "2024-04-22T06:58:18.347534Z",
          "iopub.execute_input": "2024-04-22T06:58:18.347853Z",
          "iopub.status.idle": "2024-04-22T06:58:18.359727Z",
          "shell.execute_reply.started": "2024-04-22T06:58:18.347823Z",
          "shell.execute_reply": "2024-04-22T06:58:18.358705Z"
        },
        "trusted": true,
        "id": "uH9Ci8cbdbrC"
      },
      "execution_count": null,
      "outputs": []
    },
    {
      "cell_type": "code",
      "source": [
        "print(f\"Items which most frequently lies to the left (previous time step) of Item 1 : {adj_in[1]} \")\n",
        "print(f\"Items which most frequently lies to the right (next time step) of Item 1 : {adj_out[1]} \")"
      ],
      "metadata": {
        "execution": {
          "iopub.status.busy": "2024-04-22T06:58:18.370500Z",
          "iopub.execute_input": "2024-04-22T06:58:18.370795Z",
          "iopub.status.idle": "2024-04-22T06:58:18.376335Z",
          "shell.execute_reply.started": "2024-04-22T06:58:18.370767Z",
          "shell.execute_reply": "2024-04-22T06:58:18.375152Z"
        },
        "trusted": true,
        "id": "wFeuVX2LdbrC",
        "outputId": "6aa07ada-1c4f-4574-d2c8-98357444cb57"
      },
      "execution_count": null,
      "outputs": [
        {
          "name": "stdout",
          "text": "Items which most frequently lies to the left (previous time step) of Item 1 : [37151, 33669, 18558, 29129, 35336, 28294, 29082, 28263, 4905, 889, 34325, 22650] \nItems which most frequently lies to the right (next time step) of Item 1 : [34325, 33669, 6335, 17335, 36077, 29082, 36806, 889, 13645, 37151, 4304, 36082] \n",
          "output_type": "stream"
        }
      ]
    },
    {
      "cell_type": "markdown",
      "source": [
        "### Create Item & User Similarity matrix based on If Items appear in same session & if Users interact with same set of items\n",
        "\n"
      ],
      "metadata": {
        "id": "ps32Ykn0dbrC"
      }
    },
    {
      "cell_type": "code",
      "source": [
        "def userCF():\n",
        "    \"\"\"\n",
        "    calculate user similarity\n",
        "    \"\"\"\n",
        "    vid_user = {}\n",
        "    user_sim_matrix = {}\n",
        "    uid_vcount = {}\n",
        "    with open(os.path.join(saved_path,'train.pkl'), 'rb') as f:\n",
        "        session_data = pickle.load(f)\n",
        "    for uid in tqdm(session_data):\n",
        "        u_sess = session_data[uid]\n",
        "        uid_vcount.setdefault(uid, set())\n",
        "        for sess in u_sess:\n",
        "            for vid in sess:\n",
        "                if vid not in vid_user:\n",
        "                    vid_user[vid] = set()\n",
        "                vid_user[vid].add(uid)\n",
        "                if vid not in vid_user:\n",
        "                    vid_user[vid] = set()\n",
        "                vid_user[vid].add(uid)\n",
        "                uid_vcount[uid].add(vid)\n",
        "\n",
        "    for vid, users in tqdm(vid_user.items()):\n",
        "        for u in users:\n",
        "            for v in users:\n",
        "                if u == v:\n",
        "                    continue\n",
        "                user_sim_matrix.setdefault(u, {})\n",
        "                user_sim_matrix[u].setdefault(v, 0)\n",
        "                user_sim_matrix[u][v] += (1 / len(users))\n",
        "    for u, related_users in user_sim_matrix.items():\n",
        "        for v, count in related_users.items():\n",
        "            user_sim_matrix[u][v] = count / math.sqrt(len(uid_vcount[u]) * len(uid_vcount[v]))\n",
        "    user_topK = {}\n",
        "    # print(user_sim_matrix)\n",
        "    for user in user_sim_matrix:\n",
        "        user_topK[user] = sorted(user_sim_matrix[user].items(), key=itemgetter(1), reverse=True)[0:100]\n",
        "    with open(os.path.join(saved_path,'u2u_sim.pkl'), 'wb') as f:\n",
        "        pickle.dump(user_topK, f)"
      ],
      "metadata": {
        "execution": {
          "iopub.status.busy": "2024-04-22T06:58:18.377760Z",
          "iopub.execute_input": "2024-04-22T06:58:18.378162Z",
          "iopub.status.idle": "2024-04-22T06:58:18.394600Z",
          "shell.execute_reply.started": "2024-04-22T06:58:18.378104Z",
          "shell.execute_reply": "2024-04-22T06:58:18.393428Z"
        },
        "trusted": true,
        "id": "eJtqSknsdbrD"
      },
      "execution_count": null,
      "outputs": []
    },
    {
      "cell_type": "markdown",
      "source": [
        "**User Similarity between Item i and Item j**"
      ],
      "metadata": {
        "id": "NzfdA4gXdbrD"
      }
    },
    {
      "cell_type": "code",
      "source": [
        "def itemCFSession():\n",
        "    \"\"\"\n",
        "    calculate item similarity\n",
        "    \"\"\"\n",
        "    sess_item = {}\n",
        "    item_sim_matrix = {}\n",
        "    vid_ucount = {}\n",
        "    sess_cnt = 0\n",
        "\n",
        "    with open(os.path.join(saved_path,'train.pkl'), 'rb') as f:\n",
        "        session_data = pickle.load(f)\n",
        "\n",
        "    for uid in tqdm(session_data):\n",
        "        u_sess = session_data[uid]\n",
        "\n",
        "        for sess in u_sess:\n",
        "            sess_cnt += 1\n",
        "            sess_item[sess_cnt] = set()\n",
        "            for vid in sess:\n",
        "                sess_item[sess_cnt].add(vid)\n",
        "                vid_ucount.setdefault(vid, set())\n",
        "                vid_ucount[vid].add(sess_cnt)\n",
        "\n",
        "    for sess, items in tqdm(sess_item.items()):\n",
        "        for v in items:\n",
        "            for _v in items:\n",
        "                if _v == v:\n",
        "                    continue\n",
        "                item_sim_matrix.setdefault(v, {})\n",
        "                item_sim_matrix[v].setdefault(_v, 0)\n",
        "                item_sim_matrix[v][_v] += (1 / len(items))\n",
        "\n",
        "    for v, related_items in item_sim_matrix.items():\n",
        "        for _v, count in related_items.items():\n",
        "            item_sim_matrix[v][_v] = count / math.sqrt(len(vid_ucount[v]) * len(vid_ucount[_v]))\n",
        "    item_topK = {}\n",
        "\n",
        "    for item in item_sim_matrix:\n",
        "        item_topK[item] = sorted(item_sim_matrix[item].items(), key=itemgetter(1), reverse=True)[0:200]\n",
        "    with open(os.path.join(saved_path,'i2i_sim_sess.pkl'), 'wb') as f:\n",
        "        pickle.dump(item_topK, f)"
      ],
      "metadata": {
        "execution": {
          "iopub.status.busy": "2024-04-22T06:58:18.396040Z",
          "iopub.execute_input": "2024-04-22T06:58:18.396432Z",
          "iopub.status.idle": "2024-04-22T06:58:18.412392Z",
          "shell.execute_reply.started": "2024-04-22T06:58:18.396393Z",
          "shell.execute_reply": "2024-04-22T06:58:18.411434Z"
        },
        "trusted": true,
        "id": "EoSAafBddbrD"
      },
      "execution_count": null,
      "outputs": []
    },
    {
      "cell_type": "code",
      "source": [
        "userCF()"
      ],
      "metadata": {
        "execution": {
          "iopub.status.busy": "2024-04-22T06:58:18.413726Z",
          "iopub.execute_input": "2024-04-22T06:58:18.414035Z",
          "iopub.status.idle": "2024-04-22T06:58:50.561563Z",
          "shell.execute_reply.started": "2024-04-22T06:58:18.414007Z",
          "shell.execute_reply": "2024-04-22T06:58:50.560423Z"
        },
        "trusted": true,
        "id": "Y7115ydkdbrE",
        "outputId": "91512a85-4981-4f14-f4e9-9e80404adbe0",
        "colab": {
          "referenced_widgets": [
            "5e9a0615869a4ef6b746678cec264a2d",
            "a37e2c74749b49dca1f6bfa2d091cfbc"
          ]
        }
      },
      "execution_count": null,
      "outputs": [
        {
          "output_type": "display_data",
          "data": {
            "text/plain": "  0%|          | 0/897 [00:00<?, ?it/s]",
            "application/vnd.jupyter.widget-view+json": {
              "version_major": 2,
              "version_minor": 0,
              "model_id": "5e9a0615869a4ef6b746678cec264a2d"
            }
          },
          "metadata": {}
        },
        {
          "output_type": "display_data",
          "data": {
            "text/plain": "  0%|          | 0/38569 [00:00<?, ?it/s]",
            "application/vnd.jupyter.widget-view+json": {
              "version_major": 2,
              "version_minor": 0,
              "model_id": "a37e2c74749b49dca1f6bfa2d091cfbc"
            }
          },
          "metadata": {}
        }
      ]
    },
    {
      "cell_type": "code",
      "source": [
        "itemCFSession()"
      ],
      "metadata": {
        "execution": {
          "iopub.status.busy": "2024-04-22T06:58:50.562915Z",
          "iopub.execute_input": "2024-04-22T06:58:50.563251Z",
          "iopub.status.idle": "2024-04-22T06:59:45.086727Z",
          "shell.execute_reply.started": "2024-04-22T06:58:50.563221Z",
          "shell.execute_reply": "2024-04-22T06:59:45.085822Z"
        },
        "trusted": true,
        "id": "VNf3ouKDdbrE",
        "outputId": "4056a32c-40b1-4adb-bda7-000530ab36a9",
        "colab": {
          "referenced_widgets": [
            "10dfc279de7943beb38c480de61c028a",
            "831b8734057c4bd4b3c76531191d8bd4"
          ]
        }
      },
      "execution_count": null,
      "outputs": [
        {
          "output_type": "display_data",
          "data": {
            "text/plain": "  0%|          | 0/897 [00:00<?, ?it/s]",
            "application/vnd.jupyter.widget-view+json": {
              "version_major": 2,
              "version_minor": 0,
              "model_id": "10dfc279de7943beb38c480de61c028a"
            }
          },
          "metadata": {}
        },
        {
          "output_type": "display_data",
          "data": {
            "text/plain": "  0%|          | 0/260766 [00:00<?, ?it/s]",
            "application/vnd.jupyter.widget-view+json": {
              "version_major": 2,
              "version_minor": 0,
              "model_id": "831b8734057c4bd4b3c76531191d8bd4"
            }
          },
          "metadata": {}
        }
      ]
    },
    {
      "cell_type": "code",
      "source": [
        "with open(os.path.join(saved_path,'u2u_sim.pkl'), 'rb') as f:\n",
        "    u2u_sim = pickle.load(f)"
      ],
      "metadata": {
        "execution": {
          "iopub.status.busy": "2024-04-22T06:59:45.089540Z",
          "iopub.execute_input": "2024-04-22T06:59:45.089867Z",
          "iopub.status.idle": "2024-04-22T06:59:45.119743Z",
          "shell.execute_reply.started": "2024-04-22T06:59:45.089837Z",
          "shell.execute_reply": "2024-04-22T06:59:45.119031Z"
        },
        "trusted": true,
        "id": "uSDtiRGHdbrE"
      },
      "execution_count": null,
      "outputs": []
    },
    {
      "cell_type": "code",
      "source": [
        "print(f\"#Users in the User Sim. Matrix {len(u2u_sim.keys())}, each having Top {len(u2u_sim[1])} Similar User \")"
      ],
      "metadata": {
        "execution": {
          "iopub.status.busy": "2024-04-22T06:59:45.120778Z",
          "iopub.execute_input": "2024-04-22T06:59:45.121035Z",
          "iopub.status.idle": "2024-04-22T06:59:45.126321Z",
          "shell.execute_reply.started": "2024-04-22T06:59:45.121010Z",
          "shell.execute_reply": "2024-04-22T06:59:45.125283Z"
        },
        "trusted": true,
        "id": "3RSn9JSMdbrE",
        "outputId": "3991b439-d51e-47e7-83da-fd145ebe1486"
      },
      "execution_count": null,
      "outputs": [
        {
          "name": "stdout",
          "text": "#Users in the User Sim. Matrix 897, each having Top 100 Similar User \n",
          "output_type": "stream"
        }
      ]
    },
    {
      "cell_type": "code",
      "source": [
        "with open(os.path.join(saved_path,'i2i_sim_sess.pkl'), 'rb') as f:\n",
        "    i2i_sim = pickle.load(f)"
      ],
      "metadata": {
        "execution": {
          "iopub.status.busy": "2024-04-22T06:59:45.127614Z",
          "iopub.execute_input": "2024-04-22T06:59:45.127942Z",
          "iopub.status.idle": "2024-04-22T06:59:46.708331Z",
          "shell.execute_reply.started": "2024-04-22T06:59:45.127903Z",
          "shell.execute_reply": "2024-04-22T06:59:46.707476Z"
        },
        "trusted": true,
        "id": "N9rsF0SgdbrF"
      },
      "execution_count": null,
      "outputs": []
    },
    {
      "cell_type": "code",
      "source": [
        "print(f\"#Items in the Item Sim. Matrix {len(i2i_sim.keys())} and Item1 has similar {len(i2i_sim[1])} Items while Item2 has similar {len(i2i_sim[2])} Items \")"
      ],
      "metadata": {
        "execution": {
          "iopub.status.busy": "2024-04-22T06:59:46.709570Z",
          "iopub.execute_input": "2024-04-22T06:59:46.709871Z",
          "iopub.status.idle": "2024-04-22T06:59:46.715519Z",
          "shell.execute_reply.started": "2024-04-22T06:59:46.709844Z",
          "shell.execute_reply": "2024-04-22T06:59:46.714440Z"
        },
        "trusted": true,
        "id": "CYVNJu4WdbrF",
        "outputId": "527186ff-1d7d-48a7-8f1a-c657c56af5fc"
      },
      "execution_count": null,
      "outputs": [
        {
          "name": "stdout",
          "text": "#Items in the Item Sim. Matrix 38569 and Item1 has similar 75 Items while Item2 has similar 39 Items \n",
          "output_type": "stream"
        }
      ]
    },
    {
      "cell_type": "markdown",
      "source": [
        "### Create Heterogenous Graph using the 4 types of edges mentioned earlier (prepared in Step B1 & B2)"
      ],
      "metadata": {
        "id": "XXrGN4kedbrF"
      }
    },
    {
      "cell_type": "code",
      "source": [
        "def uui_graph(sample_size, topK, add_u = True, add_v = True):\n",
        "\n",
        "    \"\"\"\n",
        "    dataset_name:\n",
        "    sample_size:\n",
        "    topK:\n",
        "    add_u:\n",
        "    add_v:\n",
        "    \"\"\"\n",
        "\n",
        "    pre = []\n",
        "    nxt = []\n",
        "    src_v = []\n",
        "    dst_u = []\n",
        "\n",
        "    with open(os.path.join(saved_path,'train.pkl'), 'rb') as f:\n",
        "        graph = pickle.load(f)\n",
        "\n",
        "    with open(os.path.join(saved_path,f'adj_{sample_size}.pkl'), 'rb') as f:\n",
        "        adj = pickle.load(f)\n",
        "\n",
        "    adj_in = adj[0]\n",
        "    adj_out = adj[1]\n",
        "\n",
        "    print('adj_in:', len(adj_in))\n",
        "    print('adj_out:', len(adj_out))\n",
        "\n",
        "    for i in range(len(adj_in)):\n",
        "        if i == 0:\n",
        "            continue\n",
        "        _pre = []\n",
        "        _nxt = []\n",
        "        for item in adj_in[i]:\n",
        "            _pre.append(i)\n",
        "            _nxt.append(item)\n",
        "        pre += _pre\n",
        "        nxt += _nxt\n",
        "    o_pre = []\n",
        "    o_nxt = []\n",
        "    for i in range(len(adj_out)):\n",
        "        if i == 0:\n",
        "            continue\n",
        "        _pre = []\n",
        "        _nxt = []\n",
        "        for item in adj_out[i]:\n",
        "            _pre.append(i)\n",
        "            _nxt.append(item)\n",
        "        o_pre += _pre\n",
        "        o_nxt += _nxt\n",
        "\n",
        "    for u in tqdm(graph, desc='build the graph...', leave=False):\n",
        "        u_seqs = graph[u]\n",
        "        for s in u_seqs:\n",
        "            pre += s[:-1]\n",
        "            nxt += s[1:]\n",
        "            dst_u += [u for _ in s]\n",
        "            src_v += s\n",
        "\n",
        "    with open(os.path.join(saved_path,'u2u_sim.pkl'), 'rb') as f:\n",
        "        u2u_sim = pickle.load(f)\n",
        "\n",
        "    with open(os.path.join(saved_path,'i2i_sim_sess.pkl'),'rb') as f:\n",
        "        i2i_sim=pickle.load(f)\n",
        "\n",
        "    topv_src=[]\n",
        "    topv_dst=[]\n",
        "    count_v=0\n",
        "    for v in tqdm(i2i_sim,desc='gen_seq...',leave=False):\n",
        "        tmp_src=[]\n",
        "        tmp_dst=[]\n",
        "\n",
        "        exclusion=adj_in[v]+adj_out[v]\n",
        "        for (vid,value) in i2i_sim[v][:topK][:int(len(exclusion))]:\n",
        "            if vid not in exclusion:\n",
        "                tmp_src.append(vid)\n",
        "                tmp_dst.append(v)\n",
        "        topv_src+=tmp_src\n",
        "        topv_dst+=tmp_dst\n",
        "\n",
        "    u_src = []\n",
        "    u_dst = []\n",
        "    for u in tqdm(u2u_sim, desc='gen_seq...', leave=False):\n",
        "        tmp_src = []\n",
        "        tmp_dst = []\n",
        "        for (uid, value) in u2u_sim[u][:topK]:\n",
        "            tmp_src.append(uid)\n",
        "            tmp_dst.append(u)\n",
        "        u_src += tmp_src\n",
        "        u_dst += tmp_dst\n",
        "\n",
        "    count = 0\n",
        "    for i in adj_in:\n",
        "        count += len(i)\n",
        "    print('local ajdency-in:', count / len(adj_in))\n",
        "    count = 0\n",
        "    for i in adj_out:\n",
        "        count += len(i)\n",
        "    print('local ajdency-out:', count / len(adj_out))\n",
        "\n",
        "    item_num = max(max(pre), max(nxt)) +1\n",
        "    print('addiotn item num', item_num)\n",
        "    user_num = max(max(u_src), max(u_dst))\n",
        "    u_src = [u + item_num for u in u_src]\n",
        "    u_dst = [u + item_num for u in u_dst]\n",
        "    dst_u = [u + item_num for u in dst_u]\n",
        "\n",
        "    G = dgl.graph((pre, nxt))\n",
        "    G = dgl.add_edges(G, nxt, pre)\n",
        "    G = dgl.add_edges(G, dst_u, src_v)\n",
        "    G = dgl.add_edges(G, src_v, dst_u)\n",
        "\n",
        "    if add_u:\n",
        "        G = dgl.add_edges(G, u_src, u_dst)\n",
        "        G = dgl.add_edges(G, u_dst, u_src)\n",
        "\n",
        "    if add_v:\n",
        "        G = dgl.add_edges(G, topv_src, topv_dst)\n",
        "        G = dgl.add_edges(G, topv_dst, topv_src)\n",
        "\n",
        "\n",
        "    G=dgl.add_self_loop(G)\n",
        "\n",
        "    return G,item_num, pre, nxt, dst_u, src_v, u_src, u_dst, topv_src, topv_dst"
      ],
      "metadata": {
        "execution": {
          "iopub.status.busy": "2024-04-22T06:59:46.717303Z",
          "iopub.execute_input": "2024-04-22T06:59:46.717672Z",
          "iopub.status.idle": "2024-04-22T06:59:46.744613Z",
          "shell.execute_reply.started": "2024-04-22T06:59:46.717643Z",
          "shell.execute_reply": "2024-04-22T06:59:46.743723Z"
        },
        "trusted": true,
        "id": "uuay6dG1dbrF"
      },
      "execution_count": null,
      "outputs": []
    },
    {
      "cell_type": "code",
      "source": [
        "G,item_num, pre, nxt, dst_u, src_v, u_src, u_dst, topv_src, topv_dst = uui_graph(SZ, topK = 20, add_u = True, add_v = True)"
      ],
      "metadata": {
        "execution": {
          "iopub.status.busy": "2024-04-22T06:59:46.745927Z",
          "iopub.execute_input": "2024-04-22T06:59:46.746434Z",
          "iopub.status.idle": "2024-04-22T06:59:55.325280Z",
          "shell.execute_reply.started": "2024-04-22T06:59:46.746395Z",
          "shell.execute_reply": "2024-04-22T06:59:55.324196Z"
        },
        "trusted": true,
        "id": "35VuaC6wdbrF",
        "outputId": "7982d281-2acc-4e47-b7b8-73f01608c81c",
        "colab": {
          "referenced_widgets": [
            ""
          ]
        }
      },
      "execution_count": null,
      "outputs": [
        {
          "name": "stdout",
          "text": "adj_in: 40000\nadj_out: 40000\n",
          "output_type": "stream"
        },
        {
          "output_type": "display_data",
          "data": {
            "text/plain": "build the graph...:   0%|          | 0/897 [00:00<?, ?it/s]",
            "application/vnd.jupyter.widget-view+json": {
              "version_major": 2,
              "version_minor": 0,
              "model_id": ""
            }
          },
          "metadata": {}
        },
        {
          "output_type": "display_data",
          "data": {
            "text/plain": "gen_seq...:   0%|          | 0/38569 [00:00<?, ?it/s]",
            "application/vnd.jupyter.widget-view+json": {
              "version_major": 2,
              "version_minor": 0,
              "model_id": ""
            }
          },
          "metadata": {}
        },
        {
          "output_type": "display_data",
          "data": {
            "text/plain": "gen_seq...:   0%|          | 0/897 [00:00<?, ?it/s]",
            "application/vnd.jupyter.widget-view+json": {
              "version_major": 2,
              "version_minor": 0,
              "model_id": ""
            }
          },
          "metadata": {}
        },
        {
          "name": "stdout",
          "text": "local ajdency-in: 8.254125\nlocal ajdency-out: 8.256525\naddiotn item num 38570\n",
          "output_type": "stream"
        }
      ]
    },
    {
      "cell_type": "markdown",
      "source": [
        "**Edge Type A) Between 2 items based on if 2 items are adjacent to each other in item sequence of same session. \\\n",
        "Edge Type B) Between 2 items based on if 2 items co-occur (item similarity) in same session. \\\n",
        "Edge Type C) Between 2 users based on if 2 users interact with similar items. \\\n",
        "Edge Type D) Between user & item based on if user iteracted with item.**"
      ],
      "metadata": {
        "id": "mXMcRUGNdbrF"
      }
    },
    {
      "cell_type": "code",
      "source": [
        "num_edges_typeA = len(pre)\n",
        "num_edges_typeB = len(topv_src)\n",
        "num_edges_typeC = len(u_src)\n",
        "num_edges_typeD = len(src_v)\n",
        "print(f\"Number Type A Edges : {num_edges_typeA}\")\n",
        "print(f\"Number Type B Edges : {num_edges_typeB}\")\n",
        "print(f\"Number Type C Edges : {num_edges_typeC}\")\n",
        "print(f\"Number Type D Edges : {num_edges_typeD}\")"
      ],
      "metadata": {
        "execution": {
          "iopub.status.busy": "2024-04-22T06:59:55.326660Z",
          "iopub.execute_input": "2024-04-22T06:59:55.326981Z",
          "iopub.status.idle": "2024-04-22T06:59:55.333705Z",
          "shell.execute_reply.started": "2024-04-22T06:59:55.326951Z",
          "shell.execute_reply": "2024-04-22T06:59:55.332617Z"
        },
        "trusted": true,
        "id": "U1Z3GnJ5dbrG",
        "outputId": "0835399c-2d7e-4396-aa76-92841c037a5e"
      },
      "execution_count": null,
      "outputs": [
        {
          "name": "stdout",
          "text": "Number Type A Edges : 3167709\nNumber Type B Edges : 426471\nNumber Type C Edges : 17940\nNumber Type D Edges : 3098310\n",
          "output_type": "stream"
        }
      ]
    },
    {
      "cell_type": "code",
      "source": [
        "print(f\"Total Number of Edges : { G.num_nodes() + 2*num_edges_typeA + 2*num_edges_typeB + 2*num_edges_typeC + 2*num_edges_typeD} \" )"
      ],
      "metadata": {
        "execution": {
          "iopub.status.busy": "2024-04-22T06:59:55.335066Z",
          "iopub.execute_input": "2024-04-22T06:59:55.335435Z",
          "iopub.status.idle": "2024-04-22T06:59:55.342569Z",
          "shell.execute_reply.started": "2024-04-22T06:59:55.335390Z",
          "shell.execute_reply": "2024-04-22T06:59:55.341264Z"
        },
        "trusted": true,
        "id": "A0Goq7dSdbrG",
        "outputId": "3d39b148-ad2f-4ccf-9c36-7a26a7ba27d2"
      },
      "execution_count": null,
      "outputs": [
        {
          "name": "stdout",
          "text": "Total Number of Edges : 13460423 \n",
          "output_type": "stream"
        }
      ]
    },
    {
      "cell_type": "code",
      "source": [
        "G"
      ],
      "metadata": {
        "execution": {
          "iopub.status.busy": "2024-04-22T06:59:55.344232Z",
          "iopub.execute_input": "2024-04-22T06:59:55.344547Z",
          "iopub.status.idle": "2024-04-22T06:59:55.351292Z",
          "shell.execute_reply.started": "2024-04-22T06:59:55.344507Z",
          "shell.execute_reply": "2024-04-22T06:59:55.350303Z"
        },
        "trusted": true,
        "id": "tuQ7mOWudbrG",
        "outputId": "228efea5-dd44-4976-d82c-1b8b02fab70f"
      },
      "execution_count": null,
      "outputs": [
        {
          "execution_count": 54,
          "output_type": "execute_result",
          "data": {
            "text/plain": "Graph(num_nodes=39563, num_edges=13460423,\n      ndata_schemes={}\n      edata_schemes={})"
          },
          "metadata": {}
        }
      ]
    },
    {
      "cell_type": "markdown",
      "source": [
        "## Train Model and Evaluate\n"
      ],
      "metadata": {
        "id": "pxr6Vg4GdbrG"
      }
    },
    {
      "cell_type": "markdown",
      "source": [
        "#### Defining the Model Architecture -\n"
      ],
      "metadata": {
        "id": "-0hb-91FdbrG"
      }
    },
    {
      "cell_type": "code",
      "source": [
        "import torch\n",
        "import torch.nn as nn\n",
        "import torch.nn.functional as F\n",
        "import dgl.nn.pytorch as dglnn\n",
        "import dgl.function as FN\n",
        "from torch.nn.utils.rnn import pack_padded_sequence, pad_packed_sequence"
      ],
      "metadata": {
        "execution": {
          "iopub.status.busy": "2024-04-22T06:59:55.352466Z",
          "iopub.execute_input": "2024-04-22T06:59:55.352726Z",
          "iopub.status.idle": "2024-04-22T06:59:55.358871Z",
          "shell.execute_reply.started": "2024-04-22T06:59:55.352702Z",
          "shell.execute_reply": "2024-04-22T06:59:55.357802Z"
        },
        "trusted": true,
        "id": "qn1Qf4tJdbrH"
      },
      "execution_count": null,
      "outputs": []
    },
    {
      "cell_type": "code",
      "source": [
        "class HG_GNN(nn.Module):\n",
        "    # @torchsnooper.snoop()\n",
        "    def __init__(self, G, config,item_num, max_seq_len=10, max_sess = 10):\n",
        "        super().__init__()\n",
        "        self.G = G.to(device)\n",
        "        self.max_sess = max_sess\n",
        "        self.hidden_size = config['hidden_size']\n",
        "        self.em_size = config['embed_size']\n",
        "        self.pos_embedding = nn.Embedding(200, self.em_size)\n",
        "        self.v2e = nn.Embedding(G.number_of_nodes(), self.em_size).to(device)\n",
        "\n",
        "        self.conv1 = dglnn.SAGEConv(self.em_size, self.em_size, 'mean')\n",
        "\n",
        "        dropout = config[\"dropout\"]\n",
        "        self.emb_dropout = nn.Dropout(p=dropout)\n",
        "        self.gru = nn.GRU(self.em_size, self.hidden_size, 1)\n",
        "        self.max_seq_len = max_seq_len\n",
        "        self.W = nn.Linear(self.em_size, self.em_size)\n",
        "\n",
        "        # node embedding\n",
        "        self.linear_one = nn.Linear(self.em_size, self.em_size, bias=True)\n",
        "        self.linear_two = nn.Linear(self.em_size, self.em_size, bias=True)\n",
        "        self.linear_three = nn.Linear(self.em_size, 1, bias=False)\n",
        "\n",
        "        # gru embedding\n",
        "        self.a_1 = nn.Linear(self.hidden_size, self.hidden_size)\n",
        "        self.a_2 = nn.Linear(self.hidden_size, self.hidden_size)\n",
        "        self.v_t = nn.Linear(self.hidden_size, 1, bias=False)\n",
        "\n",
        "        self.ct_dropout = nn.Dropout(dropout)\n",
        "\n",
        "        self.user_transform = nn.Sequential(\n",
        "            # nn.ReLU(),\n",
        "            nn.Linear(self.em_size, self.em_size, bias=True)\n",
        "            # nn.BatchNorm1d(predict_em_size, momentum=0.5),\n",
        "        )\n",
        "\n",
        "        self.gru_transform = nn.Sequential(\n",
        "            # nn.ReLU(),\n",
        "            nn.Linear(self.hidden_size * 2, self.em_size, bias=True)\n",
        "            # nn.BatchNorm1d(predict_em_size, momentum=0.5),\n",
        "        )\n",
        "\n",
        "        self.sigmoid_concat = nn.Sequential(\n",
        "            nn.Linear(self.em_size * 2, 1, bias=True),\n",
        "            nn.Sigmoid()\n",
        "            # nn.BatchNorm1d(predict_em_size, momentum=0.5),\n",
        "        )\n",
        "\n",
        "        self.w_1 = nn.Parameter(torch.Tensor(2 * self.em_size, self.em_size))\n",
        "        self.w_2 = nn.Parameter(torch.Tensor(self.em_size, 1))\n",
        "        self.glu1 = nn.Linear(self.em_size, self.em_size)\n",
        "        self.glu2 = nn.Linear(self.em_size, self.em_size, bias=False)\n",
        "\n",
        "        self.w_3 = nn.Parameter(torch.Tensor(self.em_size, self.em_size))\n",
        "        self.w_4 = nn.Parameter(torch.Tensor(self.em_size, 1))\n",
        "        self.glu3 = nn.Linear(self.em_size, self.em_size)\n",
        "        self.glu4 = nn.Linear(self.em_size, self.em_size, bias=False)\n",
        "\n",
        "        self.reset_parameters()\n",
        "\n",
        "        self.item_num = item_num\n",
        "\n",
        "\n",
        "    def reset_parameters(self):\n",
        "        stdv = 1.0 / math.sqrt(self.em_size)\n",
        "        for weight in self.parameters():\n",
        "            weight.data.uniform_(-stdv, stdv)\n",
        "\n",
        "\n",
        "    def compute_hidden_vector(self, hidden, mask, pos_idx):\n",
        "        \"\"\"\n",
        "        hidden:\n",
        "        mask:\n",
        "        pos_idx:\n",
        "        \"\"\"\n",
        "        mask = mask.float().unsqueeze(-1)\n",
        "        batch_size = hidden.shape[0]\n",
        "        len = hidden.shape[1]\n",
        "        pos_emb = self.pos_embedding(pos_idx)\n",
        "        tmp = torch.sum(hidden * mask, -2) / torch.sum(mask, 1)\n",
        "        hs = tmp.unsqueeze(-2).repeat(1, len, 1)\n",
        "        nh = torch.matmul(torch.cat([pos_emb, hidden], -1), self.w_1)\n",
        "        nh = torch.tanh(nh)\n",
        "        nh = torch.sigmoid(self.glu1(nh) + self.glu2(hs))\n",
        "        beta = torch.matmul(nh, self.w_2)\n",
        "        beta = beta * mask\n",
        "        select = torch.sum(beta * hidden, 1)\n",
        "\n",
        "        return select, tmp\n",
        "\n",
        "\n",
        "    def sess_user_vector(self, user_vec, note_embeds,mask):\n",
        "        \"\"\"\n",
        "        user_vec:\n",
        "        note_embeds:\n",
        "        mask:\n",
        "        \"\"\"\n",
        "        mask = mask.float().unsqueeze(-1)\n",
        "        hs = user_vec.repeat(1, mask.shape[1], 1)\n",
        "        nh = torch.matmul(note_embeds, self.w_3)\n",
        "        nh = torch.tanh(nh)\n",
        "        nh = torch.sigmoid(self.glu3(nh) + self.glu4(hs))\n",
        "        beta = torch.matmul(nh, self.w_4)\n",
        "        beta = beta * mask\n",
        "        select = torch.sum(beta * note_embeds, 1)\n",
        "\n",
        "        return select\n",
        "\n",
        "\n",
        "    def forward(self, user, seq, mask, seq_len, pos_idx):\n",
        "        \"\"\"\n",
        "        seq(bs*L)\n",
        "        seq: bs*L\n",
        "        his_ids: bs * M\n",
        "        mask:\n",
        "        seq_len(bs)\n",
        "        \"\"\"\n",
        "        user = user + self.item_num\n",
        "\n",
        "        # HG-GNN\n",
        "\n",
        "        h1 = self.conv1( self.G, self.emb_dropout(self.v2e(torch.arange(0, self.G.number_of_nodes()).long().to(device) ) ) )\n",
        "        h1 = F.relu(h1)\n",
        "\n",
        "        bs = seq.size()[0]\n",
        "        L = seq.size()[1]\n",
        "\n",
        "        node_list = seq\n",
        "        item_embeds = ( h1[node_list] + self.v2e(node_list)) / 2\n",
        "        user_embeds = ( h1[user] + self.v2e(user)) / 2\n",
        "        node_embeds = item_embeds.view((bs, L, -1))\n",
        "        seq_embeds = user_embeds\n",
        "\n",
        "        sess_vec, avg_sess = self.compute_hidden_vector(node_embeds, mask, pos_idx)\n",
        "        sess_user = self.sess_user_vector(user_embeds, node_embeds, mask)\n",
        "        alpha = self.sigmoid_concat(torch.cat([sess_vec, sess_user], 1))\n",
        "        seq_embeds =  (alpha * sess_vec + (1 - alpha) * sess_user)\n",
        "        item_embs = self.v2e.weight[1:]\n",
        "        scores = torch.matmul(seq_embeds, item_embs.permute(1, 0))\n",
        "\n",
        "        return scores\n"
      ],
      "metadata": {
        "execution": {
          "iopub.status.busy": "2024-04-22T06:59:55.360019Z",
          "iopub.execute_input": "2024-04-22T06:59:55.360367Z",
          "iopub.status.idle": "2024-04-22T06:59:55.734885Z",
          "shell.execute_reply.started": "2024-04-22T06:59:55.360341Z",
          "shell.execute_reply": "2024-04-22T06:59:55.733563Z"
        },
        "trusted": true,
        "id": "Cbb3UQz_dbrH"
      },
      "execution_count": null,
      "outputs": []
    },
    {
      "cell_type": "code",
      "source": [
        "config = {\n",
        "'embed_size' : 128,\n",
        "'learning_rate' : 0.001,\n",
        "'hidden_size' : 256,\n",
        "'batch_size' : 512,\n",
        "'epoch' : 10,\n",
        "'gnn_layer_size' : 3,\n",
        "'patience' : 5,\n",
        "'save_flag' : 0,\n",
        "'dropout' : 0.5,\n",
        "'comment' : \"\",\n",
        "'lr_dc_step' : 3,\n",
        "'lr_dc' : 0.1\n",
        "}"
      ],
      "metadata": {
        "execution": {
          "iopub.status.busy": "2024-04-22T06:59:55.736534Z",
          "iopub.execute_input": "2024-04-22T06:59:55.736924Z",
          "iopub.status.idle": "2024-04-22T06:59:55.746496Z",
          "shell.execute_reply.started": "2024-04-22T06:59:55.736891Z",
          "shell.execute_reply": "2024-04-22T06:59:55.745517Z"
        },
        "trusted": true,
        "id": "3I1hL94bdbrH"
      },
      "execution_count": null,
      "outputs": []
    },
    {
      "cell_type": "code",
      "source": [
        "device = torch.device('cuda' if torch.cuda.is_available() else 'cpu')\n",
        "device"
      ],
      "metadata": {
        "execution": {
          "iopub.status.busy": "2024-04-22T06:59:55.747856Z",
          "iopub.execute_input": "2024-04-22T06:59:55.748437Z",
          "iopub.status.idle": "2024-04-22T06:59:55.756564Z",
          "shell.execute_reply.started": "2024-04-22T06:59:55.748396Z",
          "shell.execute_reply": "2024-04-22T06:59:55.755583Z"
        },
        "trusted": true,
        "id": "OMsWX31odbrH",
        "outputId": "6a6048c2-af70-4a77-ddd5-f421f3a057bb"
      },
      "execution_count": null,
      "outputs": [
        {
          "execution_count": 58,
          "output_type": "execute_result",
          "data": {
            "text/plain": "device(type='cuda')"
          },
          "metadata": {}
        }
      ]
    },
    {
      "cell_type": "code",
      "source": [
        "G.to(device)"
      ],
      "metadata": {
        "execution": {
          "iopub.status.busy": "2024-04-22T06:59:55.757859Z",
          "iopub.execute_input": "2024-04-22T06:59:55.758199Z",
          "iopub.status.idle": "2024-04-22T06:59:56.304229Z",
          "shell.execute_reply.started": "2024-04-22T06:59:55.758159Z",
          "shell.execute_reply": "2024-04-22T06:59:56.303185Z"
        },
        "trusted": true,
        "id": "sKlaqVAVdbrH",
        "outputId": "712fb91c-2bae-43c1-a388-05be8eee6aae"
      },
      "execution_count": null,
      "outputs": [
        {
          "execution_count": 59,
          "output_type": "execute_result",
          "data": {
            "text/plain": "Graph(num_nodes=39563, num_edges=13460423,\n      ndata_schemes={}\n      edata_schemes={})"
          },
          "metadata": {}
        }
      ]
    },
    {
      "cell_type": "code",
      "source": [
        "model = HG_GNN(G, config, item_num, SEQ_LEN).to(device)"
      ],
      "metadata": {
        "execution": {
          "iopub.status.busy": "2024-04-22T06:59:56.305657Z",
          "iopub.execute_input": "2024-04-22T06:59:56.305997Z",
          "iopub.status.idle": "2024-04-22T06:59:57.499967Z",
          "shell.execute_reply.started": "2024-04-22T06:59:56.305966Z",
          "shell.execute_reply": "2024-04-22T06:59:57.499097Z"
        },
        "trusted": true,
        "id": "ePmiW6JndbrH"
      },
      "execution_count": null,
      "outputs": []
    },
    {
      "cell_type": "markdown",
      "source": [
        "### Example of Model Output"
      ],
      "metadata": {
        "id": "0rWnsUHRdbrI"
      }
    },
    {
      "cell_type": "code",
      "source": [
        "eg = next(iter(train_iter))"
      ],
      "metadata": {
        "execution": {
          "iopub.status.busy": "2024-04-22T06:59:57.501180Z",
          "iopub.execute_input": "2024-04-22T06:59:57.501475Z",
          "iopub.status.idle": "2024-04-22T06:59:57.786782Z",
          "shell.execute_reply.started": "2024-04-22T06:59:57.501449Z",
          "shell.execute_reply": "2024-04-22T06:59:57.785912Z"
        },
        "trusted": true,
        "id": "BBXEWrIHdbrI"
      },
      "execution_count": null,
      "outputs": []
    },
    {
      "cell_type": "code",
      "source": [
        "eg[0].size(), eg[1].size(), eg[2].size(), eg[3].size(), eg[4].size(), eg[5].size(),"
      ],
      "metadata": {
        "execution": {
          "iopub.status.busy": "2024-04-22T06:59:57.788035Z",
          "iopub.execute_input": "2024-04-22T06:59:57.788415Z",
          "iopub.status.idle": "2024-04-22T06:59:57.797066Z",
          "shell.execute_reply.started": "2024-04-22T06:59:57.788382Z",
          "shell.execute_reply": "2024-04-22T06:59:57.796029Z"
        },
        "trusted": true,
        "id": "lt4etcE1dbrI",
        "outputId": "6604ec1e-7497-4e23-a9cb-7dd0de41186b"
      },
      "execution_count": null,
      "outputs": [
        {
          "execution_count": 62,
          "output_type": "execute_result",
          "data": {
            "text/plain": "(torch.Size([512, 1]),\n torch.Size([512, 10]),\n torch.Size([512, 10]),\n torch.Size([512]),\n torch.Size([512, 1]),\n torch.Size([512, 10]))"
          },
          "metadata": {}
        }
      ]
    },
    {
      "cell_type": "code",
      "source": [
        "uid, browsed_ids, mask, seq_len, label, pos_idx = eg[0], eg[1], eg[2], eg[3], eg[4], eg[5]"
      ],
      "metadata": {
        "execution": {
          "iopub.status.busy": "2024-04-22T06:59:57.798520Z",
          "iopub.execute_input": "2024-04-22T06:59:57.798849Z",
          "iopub.status.idle": "2024-04-22T06:59:57.805955Z",
          "shell.execute_reply.started": "2024-04-22T06:59:57.798820Z",
          "shell.execute_reply": "2024-04-22T06:59:57.805076Z"
        },
        "trusted": true,
        "id": "fJBhBtGbdbrI"
      },
      "execution_count": null,
      "outputs": []
    },
    {
      "cell_type": "code",
      "source": [
        "outputs = model(uid.to(device),\n",
        "                browsed_ids.to(device),\n",
        "                mask.to(device),\n",
        "                seq_len.to(device),\n",
        "                pos_idx.to(device)\n",
        "                )"
      ],
      "metadata": {
        "execution": {
          "iopub.status.busy": "2024-04-22T06:59:57.807208Z",
          "iopub.execute_input": "2024-04-22T06:59:57.807534Z",
          "iopub.status.idle": "2024-04-22T06:59:59.495267Z",
          "shell.execute_reply.started": "2024-04-22T06:59:57.807504Z",
          "shell.execute_reply": "2024-04-22T06:59:59.494331Z"
        },
        "trusted": true,
        "id": "sPh4Iud-dbrJ"
      },
      "execution_count": null,
      "outputs": []
    },
    {
      "cell_type": "code",
      "source": [
        "print(f\"Size of Label is {label.size()} & Model Output {outputs.size()} \")"
      ],
      "metadata": {
        "execution": {
          "iopub.status.busy": "2024-04-22T06:59:59.496539Z",
          "iopub.execute_input": "2024-04-22T06:59:59.496851Z",
          "iopub.status.idle": "2024-04-22T06:59:59.502697Z",
          "shell.execute_reply.started": "2024-04-22T06:59:59.496822Z",
          "shell.execute_reply": "2024-04-22T06:59:59.501541Z"
        },
        "trusted": true,
        "id": "IhrqYfIKdbrJ",
        "outputId": "cfa4a19c-e52a-4837-a3ea-a78899872539"
      },
      "execution_count": null,
      "outputs": [
        {
          "name": "stdout",
          "text": "Size of Label is torch.Size([512, 1]) & Model Output torch.Size([512, 39562]) \n",
          "output_type": "stream"
        }
      ]
    },
    {
      "cell_type": "markdown",
      "source": [
        "#### Training Loop and Evaluation Fuction which computes Accuracy, MRR, NDCG @ top 5, 10, 20 items"
      ],
      "metadata": {
        "id": "_PTIQBfLdbrJ"
      }
    },
    {
      "cell_type": "code",
      "source": [
        "def train(config, model, device, train_iter, test_iter=None):\n",
        "    model.train()\n",
        "    optimizer = torch.optim.Adam(model.parameters(), lr=config['learning_rate'], weight_decay=1e-5)\n",
        "    scheduler = torch.optim.lr_scheduler.StepLR(optimizer, step_size=config[\"lr_dc_step\"], gamma=config[\"lr_dc\"])\n",
        "\n",
        "    dev_best_loss = float('inf')\n",
        "    last_improve = 0\n",
        "    flag = False\n",
        "    AUC_best = 0\n",
        "    loss_list = []\n",
        "    best_acc = 0\n",
        "    STEP_SIZE = 2000\n",
        "    batchs = train_iter.__len__()\n",
        "\n",
        "    for epoch in range(config['epoch']):\n",
        "        print('Epoch [{}/{}]'.format(epoch + 1, config['epoch']))\n",
        "        loss_records = []\n",
        "        L = nn.CrossEntropyLoss()\n",
        "        total_batch = 0\n",
        "        for i, (uid, browsed_ids, mask, seq_len, label, pos_idx) in enumerate(train_iter):\n",
        "            model.train()\n",
        "            outputs = model(uid.to(device),\n",
        "                            browsed_ids.to(device),\n",
        "                            mask.to(device),\n",
        "                            seq_len.to(device),\n",
        "                            pos_idx.to(device)\n",
        "                            )\n",
        "            model.zero_grad()\n",
        "            loss = L(outputs, (label - 1).to(device).squeeze())\n",
        "            loss_list.append(loss.item())\n",
        "            loss_records.append(loss.item())\n",
        "            loss.backward()\n",
        "            optimizer.step()\n",
        "\n",
        "            if total_batch == 0:\n",
        "                print(f'Initial training Loss is {round(np.mean(loss_records),2)}')\n",
        "\n",
        "            if (total_batch+1) % STEP_SIZE == 0:\n",
        "                print(f'Average training Loss till Batch {total_batch+1} is {round(np.mean(loss_records),2)}')\n",
        "                loss_list = []\n",
        "            total_batch += 1\n",
        "\n",
        "        print('preformance on test set....')\n",
        "        scheduler.step()\n",
        "        acc = evaluate_topk(config, model, test_iter)\n",
        "\n",
        "        if acc > best_acc:\n",
        "            best_acc = acc\n",
        "            last_improve = 0\n",
        "\n",
        "            torch.save({\n",
        "                'model' : model.state_dict(),\n",
        "                'optimizer' : optimizer.state_dict(),\n",
        "                'scheduler' : scheduler.state_dict(),\n",
        "                'Accuracy@20' : acc,\n",
        "                'epoch' : epoch\n",
        "            }, os.path.join(saved_path, f'{epoch}.pt'))\n",
        "\n",
        "        else:\n",
        "            last_improve += 1\n",
        "            if last_improve >= config['patience']:\n",
        "                print('Early stop: No more improvement')\n",
        "                break\n",
        "\n",
        "\n",
        "def metrics(res, labels):\n",
        "    res = np.concatenate(res)\n",
        "    acc_ar = (res == labels)  # [BS, K]\n",
        "    acc = acc_ar.sum(-1)\n",
        "\n",
        "    rank = np.argmax(acc_ar, -1) + 1\n",
        "    mrr = (acc / rank).mean()\n",
        "    ndcg = (acc / np.log2(rank + 1)).mean()\n",
        "    return acc.mean(), mrr, ndcg\n",
        "\n",
        "\n",
        "def evaluate_topk(config, model, data_iter, K=20):\n",
        "    model.eval()\n",
        "    hit = []\n",
        "    res50 = []\n",
        "    res20 = []\n",
        "    res10 = []\n",
        "    res5 = []\n",
        "    mrr = []\n",
        "    labels = []\n",
        "    uids = []\n",
        "    with torch.no_grad():\n",
        "        with tqdm(total=(data_iter.__len__()), desc='Predicting', leave=False) as p:\n",
        "            for i, (uid, browsed_ids, mask, seq_len, label, pos_idx) in (enumerate(data_iter)):\n",
        "                outputs = model(uid.to(device), browsed_ids.to(device), mask.to(device), seq_len.to(device),\n",
        "                                pos_idx.to(device)\n",
        "                                )\n",
        "                sub_scores = outputs.topk(K)[1].cpu()\n",
        "                res20.append(sub_scores)\n",
        "                res10.append(outputs.topk(10)[1].cpu())\n",
        "                res5.append(outputs.topk(5)[1].cpu())\n",
        "                res50.append(outputs.topk(50)[1].cpu())\n",
        "                labels.append(label)\n",
        "\n",
        "    labels = np.concatenate(labels)  # .flatten()\n",
        "    labels = labels - 1\n",
        "\n",
        "    acc50, mrr50, ndcg50 = metrics(res50, labels)\n",
        "    acc20, mrr20, ndcg20 = metrics(res20, labels)\n",
        "    acc10, mrr10, ndcg10 = metrics(res10, labels)\n",
        "    acc5, mrr5, ndcg5 = metrics(res5, labels)\n",
        "\n",
        "    print(\"Top20 : acc {} , mrr {}, ndcg {}\".format(acc20, mrr20, ndcg20))\n",
        "    print(\"Top10 : acc {} , mrr {}, ndcg {}\".format(acc10, mrr10, ndcg10))\n",
        "    print(\"Top5 : acc {} , mrr {}, ndcg {}\".format(acc5, mrr5, ndcg5))\n",
        "\n",
        "    return acc20"
      ],
      "metadata": {
        "execution": {
          "iopub.status.busy": "2024-04-22T07:02:20.928348Z",
          "iopub.execute_input": "2024-04-22T07:02:20.928848Z",
          "iopub.status.idle": "2024-04-22T07:02:20.956737Z",
          "shell.execute_reply.started": "2024-04-22T07:02:20.928803Z",
          "shell.execute_reply": "2024-04-22T07:02:20.955514Z"
        },
        "trusted": true,
        "id": "svoCWxyndbrJ"
      },
      "execution_count": null,
      "outputs": []
    },
    {
      "cell_type": "code",
      "source": [
        "train(config, model, device, train_iter, test_iter)"
      ],
      "metadata": {
        "execution": {
          "iopub.status.busy": "2024-04-22T07:02:23.513792Z",
          "iopub.execute_input": "2024-04-22T07:02:23.514271Z"
        },
        "trusted": true,
        "id": "LPVUqIkJdbrJ",
        "outputId": "75253c7a-86bd-4e70-c95e-35467cf73e5e",
        "colab": {
          "referenced_widgets": [
            "33bf0cf395744aea82fddddf68ec6bd3",
            "bc94f9d56b4047738c073ba8388b5cbb"
          ]
        }
      },
      "execution_count": null,
      "outputs": [
        {
          "name": "stdout",
          "text": "Epoch [1/10]\nInitial training Loss is 10.6\nAverage training Loss till Batch 2000 is 8.45\nAverage training Loss till Batch 4000 is 8.04\npreformance on test set....\n",
          "output_type": "stream"
        },
        {
          "output_type": "display_data",
          "data": {
            "text/plain": "Predicting:   0%|          | 0/1314 [00:00<?, ?it/s]",
            "application/vnd.jupyter.widget-view+json": {
              "version_major": 2,
              "version_minor": 0,
              "model_id": "33bf0cf395744aea82fddddf68ec6bd3"
            }
          },
          "metadata": {}
        },
        {
          "name": "stdout",
          "text": "Top20 : acc 0.1592845861206376 , mrr 0.0472464727216317, ndcg 0.07149472298517695\nTop10 : acc 0.10633497621929999 , mrr 0.043629359340571806, ndcg 0.05817915169210204\nTop5 : acc 0.06903095506503627 , mrr 0.03873180506270629, ndcg 0.046197195816210304\nEpoch [2/10]\nInitial training Loss is 6.92\nAverage training Loss till Batch 2000 is 7.01\nAverage training Loss till Batch 4000 is 6.95\npreformance on test set....\n",
          "output_type": "stream"
        },
        {
          "output_type": "display_data",
          "data": {
            "text/plain": "Predicting:   0%|          | 0/1314 [00:00<?, ?it/s]",
            "application/vnd.jupyter.widget-view+json": {
              "version_major": 2,
              "version_minor": 0,
              "model_id": "bc94f9d56b4047738c073ba8388b5cbb"
            }
          },
          "metadata": {}
        },
        {
          "name": "stdout",
          "text": "Top20 : acc 0.18267117196167723 , mrr 0.05675237284891504, ndcg 0.08408590687710855\nTop10 : acc 0.12469326020160798 , mrr 0.05278619593359165, ndcg 0.069498862004407\nTop5 : acc 0.08259740568773666 , mrr 0.04724952929383663, ndcg 0.05596772529726891\nEpoch [3/10]\nInitial training Loss is 6.66\n",
          "output_type": "stream"
        }
      ]
    },
    {
      "cell_type": "code",
      "source": [
        "import matplotlib.pyplot as plt\n",
        "\n",
        "\n",
        "\n",
        "data = {'acc5':0.1105, 'acc10':0.1598, 'acc20':0.2249}\n",
        "accuracy = list(data.keys())\n",
        "values = list(data.values())\n",
        "fig = plt.figure(figsize = (10, 5))\n",
        "\n",
        "# creating the bar plot\n",
        "plt.ylabel('Accuracy', labelpad = 50)\n",
        "plt.bar(accuracy, values, color ='maroon',\n",
        "        width = 0.4)\n",
        ""
      ],
      "metadata": {
        "execution": {
          "iopub.status.busy": "2024-04-22T07:00:00.003739Z",
          "iopub.status.idle": "2024-04-22T07:00:00.004119Z",
          "shell.execute_reply.started": "2024-04-22T07:00:00.003926Z",
          "shell.execute_reply": "2024-04-22T07:00:00.003943Z"
        },
        "trusted": true,
        "id": "J9HGYv5ddbrK"
      },
      "execution_count": null,
      "outputs": []
    },
    {
      "cell_type": "code",
      "source": [
        "\n",
        "data = {'mrr5':0.06243, 'mrr10':0.06892, 'mrr20':0.07339}\n",
        "mrr = list(data.keys())\n",
        "values = list(data.values())\n",
        "fig = plt.figure(figsize = (10, 5))\n",
        "\n",
        "# creating the bar plot\n",
        "plt.ylabel('MRR', labelpad = 50)\n",
        "plt.bar(mrr, values, color ='blue',\n",
        "        width = 0.4)"
      ],
      "metadata": {
        "execution": {
          "iopub.status.busy": "2024-04-22T07:00:00.005461Z",
          "iopub.status.idle": "2024-04-22T07:00:00.005845Z",
          "shell.execute_reply.started": "2024-04-22T07:00:00.005656Z",
          "shell.execute_reply": "2024-04-22T07:00:00.005673Z"
        },
        "trusted": true,
        "id": "KXGw04ccdbrK"
      },
      "execution_count": null,
      "outputs": []
    },
    {
      "cell_type": "code",
      "source": [
        "\n",
        "data = {'Item-KNN':4.04,'GRU4Rec':5.40,'FPMC':3.78,'BRP-MF':5.73,'NextitNext':7.08,'NARM':7.19,'HGNN':7.31}\n",
        "metrics = list(data.keys())\n",
        "values = list(data.values())\n",
        "fig = plt.figure(figsize = (10, 5))\n",
        "\n",
        "# creating the bar plot\n",
        "plt.ylabel('MRR@20', labelpad = 50)\n",
        "plt.bar(metrics, values, color ='orange',\n",
        "        width = 0.4)\n",
        ""
      ],
      "metadata": {
        "execution": {
          "iopub.status.busy": "2024-04-22T07:00:00.007701Z",
          "iopub.status.idle": "2024-04-22T07:00:00.008051Z",
          "shell.execute_reply.started": "2024-04-22T07:00:00.007873Z",
          "shell.execute_reply": "2024-04-22T07:00:00.007890Z"
        },
        "trusted": true,
        "id": "SIwRYWaMdbrK"
      },
      "execution_count": null,
      "outputs": []
    },
    {
      "cell_type": "code",
      "source": [
        "import matplotlib.pyplot as plt\n",
        "data = {'ndcg5':0.0751, 'ndcg10':0.09076, 'ndcg20':0.10782}\n",
        "mrr = list(data.keys())\n",
        "values = list(data.values())\n",
        "fig = plt.figure(figsize = (10, 5))\n",
        "\n",
        "# creating the bar plot\n",
        "plt.ylabel('nDCG', labelpad = 50)\n",
        "plt.bar(mrr, values, color ='red',\n",
        "        width = 0.4)"
      ],
      "metadata": {
        "execution": {
          "iopub.status.busy": "2024-04-22T07:00:00.009744Z",
          "iopub.status.idle": "2024-04-22T07:00:00.010098Z",
          "shell.execute_reply.started": "2024-04-22T07:00:00.009920Z",
          "shell.execute_reply": "2024-04-22T07:00:00.009937Z"
        },
        "trusted": true,
        "id": "HqbGeXizdbrK"
      },
      "execution_count": null,
      "outputs": []
    },
    {
      "cell_type": "code",
      "source": [],
      "metadata": {
        "id": "yTz33wDXdbrK"
      },
      "execution_count": null,
      "outputs": []
    }
  ]
}